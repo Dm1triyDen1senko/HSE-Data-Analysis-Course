{
 "cells": [
  {
   "cell_type": "markdown",
   "metadata": {
    "id": "fzPLwzYry6Bn"
   },
   "source": [
    "<center>\n",
    "<img src=\"https://raw.githubusercontent.com/FUlyankin/r_probability/master/end_seminars_2020/sem08/real_expect.png\" width=\"500\">\n",
    "\n",
    "# Андан на экономе: домашнее задание 4\n",
    "</center>\n",
    "\n",
    "\n",
    "> Если орел, я выиграла. Если решка, ты проиграл.\n",
    "\n",
    "$\\qquad$ $\\qquad$ $\\qquad$ $\\qquad$  **[Рейчел из Друзей](https://www.youtube.com/watch?v=TV9ghItJ2Ms)**"
   ]
  },
  {
   "cell_type": "markdown",
   "metadata": {
    "id": "o45CpDvjy6Bp"
   },
   "source": [
    "**ФИО:**"
   ]
  },
  {
   "cell_type": "markdown",
   "metadata": {
    "id": "pOo2cVCxy6Bp"
   },
   "source": [
    "## Общая информация\n",
    "\n",
    "__Дата выдачи:__ 20.05.2024\n",
    "\n",
    "__Дедлайн:__ 23:59MSK 10.06.2024"
   ]
  },
  {
   "cell_type": "markdown",
   "metadata": {
    "id": "Tm3OWbSNy6Bq"
   },
   "source": [
    "## Оценивание и штрафы\n",
    "\n",
    "Каждая из задач имеет определенную «стоимость» (указана в скобках около задачи). Максимально допустимая оценка за работу — 100 баллов. За каждый день просрочки после мягкого дедлайна снимается 10 баллов. После жёсткого дедлайна работы не принимаются. Даже при опозданиии на одну секунду. Сдавайте работы заранее.\n",
    "\n",
    "Мягкий дедлайн можно отодвинуть без потери баллов на 1,2 или 3 дня. Суммарно для откладывания в запасе есть три дня. Можно отодвинуть один дедлайн на три дня, а можно три дедлайна подвинуть на один день. Распоряжаться этими днями студент может как угодно. Жёсткий дедлайн, при этом, не меняется. Если такое произошло, нужно сообщить о сдвиге при сдаче работы.\n",
    "\n",
    "Задание выполняется самостоятельно. «Похожие» решения считаются плагиатом и все задействованные студенты (в том числе те, у кого списали) не могут получить за него больше 0 баллов. Если вы нашли решение какого-то из заданий (или его часть) в открытом источнике, необходимо указать ссылку на этот источник (скорее всего вы будете не единственным, кто это нашел, поэтому чтобы исключить подозрение в плагиате, необходима ссылка на источник).\n",
    "\n",
    "Любой из студентов может быть вызван на защиту любого домашнего задания. В таком случае итоговая оценка студента определяется в результате защиты.\n",
    "\n",
    "> За отсутствие названий графиков и подписей к осям могут снижаться баллы. Все картинки должны быть самодостаточны и визуально удобны для восприятия, так чтобы не нужно было смотреть ваш код или знать задание, чтобы понять что на них изображено. Выводы должны быть релевантными. Не забывайте их писать. Если в вопросе требуется ответ словами, а его нет, вы будете терять довольно много баллов."
   ]
  },
  {
   "cell_type": "markdown",
   "metadata": {
    "id": "7JeAtBEIy6Bq"
   },
   "source": [
    "## Формат сдачи\n",
    "\n",
    "Сам ноутбук называйте в формате hw-02-USERNAME.ipynb, где USERNAME — ваши фамилия и имя на латинице. Задание сдаётся в anytask."
   ]
  },
  {
   "cell_type": "code",
   "execution_count": 23,
   "metadata": {
    "id": "v84oRsNhy6Bq"
   },
   "outputs": [],
   "source": [
    "import numpy as np\n",
    "import pandas as pd\n",
    "\n",
    "import scipy.stats as sts\n",
    "import matplotlib.pyplot as plt\n",
    "import seaborn as sns"
   ]
  },
  {
   "cell_type": "markdown",
   "metadata": {
    "id": "8Jj-JL00y6Br"
   },
   "source": [
    "## Часть 1: обязательная\n",
    "\n",
    "За эту часть можно получить 100 баллов."
   ]
  },
  {
   "cell_type": "markdown",
   "metadata": {
    "id": "rm7pc-nQy6Br"
   },
   "source": [
    "### Задача №1: Лучше найди себе девушку! (15 баллов)"
   ]
  },
  {
   "cell_type": "code",
   "execution_count": 24,
   "metadata": {
    "colab": {
     "base_uri": "https://localhost:8080/",
     "height": 0
    },
    "id": "VF2sF9T3y6Br",
    "outputId": "6fddf276-cf11-4eb6-b3f1-ed73ea1e6405"
   },
   "outputs": [
    {
     "data": {
      "image/jpeg": "[encoded data removed]",
      "text/html": [
       "\n",
       "        <iframe\n",
       "            width=\"400\"\n",
       "            height=\"320\"\n",
       "            src=\"https://www.youtube.com/embed/ZQ0-anIcnzg\"\n",
       "            frameborder=\"0\"\n",
       "            allowfullscreen\n",
       "            \n",
       "        ></iframe>\n",
       "        "
      ],
      "text/plain": [
       "<IPython.lib.display.YouTubeVideo at 0x7fe2e0063190>"
      ]
     },
     "execution_count": 24,
     "metadata": {},
     "output_type": "execute_result"
    }
   ],
   "source": [
    "from IPython.display import YouTubeVideo\n",
    "YouTubeVideo('ZQ0-anIcnzg', width=400, height=320)"
   ]
  },
  {
   "cell_type": "markdown",
   "metadata": {
    "id": "Zx4EatlUy6Br"
   },
   "source": [
    "В этой задаче вам предстоит проверить несколько гипотез на датасете из американского сервиса знакомств. Датасет называется `dating_is_hard.csv`\n",
    "\n",
    "Колонки датасета:\n",
    "- `age` - возраст\n",
    "- `is_heavy_drinker` - алкоголизм в булевом виде\n",
    "- `height` - рост в дюймах\n",
    "- `sex` - полов может быть только два - f для женщин и m для мужчин.\n",
    "- `smokes` - зависимость от табака в булевом виде\n",
    "- `location` - место жительства\n",
    "- `offspring` - отношение к детям\n",
    "\n",
    "Для каждого пункта нужно расписать нулевую и альтернативную гипотезу, описать какой именно критерий вы используете, перечислить предпослыки необходимые для его использования, а также вычислить значение статистики и p-value, если это возможно."
   ]
  },
  {
   "cell_type": "code",
   "execution_count": 25,
   "metadata": {
    "colab": {
     "base_uri": "https://localhost:8080/",
     "height": 0
    },
    "id": "QTn-yC3Gy6Br",
    "outputId": "d0c3a1b7-6b14-4642-ced2-1788278f7665"
   },
   "outputs": [
    {
     "data": {
      "text/html": [
       "<div>\n",
       "<style scoped>\n",
       "    .dataframe tbody tr th:only-of-type {\n",
       "        vertical-align: middle;\n",
       "    }\n",
       "\n",
       "    .dataframe tbody tr th {\n",
       "        vertical-align: top;\n",
       "    }\n",
       "\n",
       "    .dataframe thead th {\n",
       "        text-align: right;\n",
       "    }\n",
       "</style>\n",
       "<table border=\"1\" class=\"dataframe\">\n",
       "  <thead>\n",
       "    <tr style=\"text-align: right;\">\n",
       "      <th></th>\n",
       "      <th>Unnamed: 0</th>\n",
       "      <th>age</th>\n",
       "      <th>is_heavy_drinker</th>\n",
       "      <th>height</th>\n",
       "      <th>sex</th>\n",
       "      <th>smokes</th>\n",
       "      <th>location</th>\n",
       "      <th>offspring</th>\n",
       "    </tr>\n",
       "  </thead>\n",
       "  <tbody>\n",
       "    <tr>\n",
       "      <th>0</th>\n",
       "      <td>uid_1</td>\n",
       "      <td>27</td>\n",
       "      <td>False</td>\n",
       "      <td>64</td>\n",
       "      <td>f</td>\n",
       "      <td>True</td>\n",
       "      <td>san francisco california</td>\n",
       "      <td>no opinion</td>\n",
       "    </tr>\n",
       "    <tr>\n",
       "      <th>1</th>\n",
       "      <td>uid_2</td>\n",
       "      <td>38</td>\n",
       "      <td>False</td>\n",
       "      <td>65</td>\n",
       "      <td>f</td>\n",
       "      <td>False</td>\n",
       "      <td>oakland california</td>\n",
       "      <td>wants kids</td>\n",
       "    </tr>\n",
       "    <tr>\n",
       "      <th>2</th>\n",
       "      <td>uid_3</td>\n",
       "      <td>31</td>\n",
       "      <td>False</td>\n",
       "      <td>70</td>\n",
       "      <td>m</td>\n",
       "      <td>True</td>\n",
       "      <td>san francisco california</td>\n",
       "      <td>does not have kids</td>\n",
       "    </tr>\n",
       "    <tr>\n",
       "      <th>3</th>\n",
       "      <td>uid_4</td>\n",
       "      <td>29</td>\n",
       "      <td>False</td>\n",
       "      <td>66</td>\n",
       "      <td>m</td>\n",
       "      <td>False</td>\n",
       "      <td>martinez california</td>\n",
       "      <td>does not have kids</td>\n",
       "    </tr>\n",
       "    <tr>\n",
       "      <th>4</th>\n",
       "      <td>uid_5</td>\n",
       "      <td>30</td>\n",
       "      <td>False</td>\n",
       "      <td>69</td>\n",
       "      <td>m</td>\n",
       "      <td>True</td>\n",
       "      <td>san francisco california</td>\n",
       "      <td>no opinion</td>\n",
       "    </tr>\n",
       "  </tbody>\n",
       "</table>\n",
       "</div>"
      ],
      "text/plain": [
       "  Unnamed: 0  age  is_heavy_drinker  height sex  smokes  \\\n",
       "0      uid_1   27             False      64   f    True   \n",
       "1      uid_2   38             False      65   f   False   \n",
       "2      uid_3   31             False      70   m    True   \n",
       "3      uid_4   29             False      66   m   False   \n",
       "4      uid_5   30             False      69   m    True   \n",
       "\n",
       "                   location           offspring  \n",
       "0  san francisco california          no opinion  \n",
       "1        oakland california          wants kids  \n",
       "2  san francisco california  does not have kids  \n",
       "3       martinez california  does not have kids  \n",
       "4  san francisco california          no opinion  "
      ]
     },
     "execution_count": 25,
     "metadata": {},
     "output_type": "execute_result"
    }
   ],
   "source": [
    "df = pd.read_csv('https://raw.githubusercontent.com/hse-econ-data-science/andan2024/main/hw/data/dating_is_hard.csv')\n",
    "df.head()"
   ]
  },
  {
   "cell_type": "markdown",
   "metadata": {
    "id": "YfjMqNbty6Br"
   },
   "source": [
    "__a) [5 баллов]__ Рост в приложениях для знакомств не проверяют, поэтому можно поставить себе любой и никто не узнает. Посмотрим же, врут ли люди о своём росте.\n",
    "\n",
    "Проверьте две гипотезы: совпадает ли средний рост мужчин в приложении с их реальным средним ростом и совпадает ли средний рост женщин в приложении с их реальным средним ростом\n",
    "\n",
    "__P.S.__ Средний рост мы вам не дамим. Ищите сами и приложите ссылку на источник в решении."
   ]
  },
  {
   "cell_type": "markdown",
   "metadata": {
    "id": "VCXHVxCzh_0c"
   },
   "source": [
    "Ссылка на данные о среднем росте американцев на 2024 год: https://worldpopulationreview.com/state-rankings/average-height-by-state\n",
    "\n",
    "\n",
    "Средний рост мужчин: 5 feet 9 inches = 69 дюймов\n",
    "\n",
    "Средний рост женщин: 5 feet 4 inches = 64 дюйма"
   ]
  },
  {
   "cell_type": "code",
   "execution_count": 26,
   "metadata": {
    "colab": {
     "base_uri": "https://localhost:8080/"
    },
    "id": "veUz6-92y6Bs",
    "outputId": "53a0365b-e473-46f9-8b47-0918c269d7e9"
   },
   "outputs": [
    {
     "name": "stdout",
     "output_type": "stream",
     "text": [
      "Средний рост мужчин в приложении: 70.30 дюймов\n",
      "\n",
      "Средний рост женщин в приложении: 64.83 дюйма\n"
     ]
    }
   ],
   "source": [
    "men_heights = df[df['sex'] == 'm']['height']\n",
    "women_heights = df[df['sex'] == 'f']['height']\n",
    "\n",
    "print(f\"Средний рост мужчин в приложении: {men_heights.mean():.2f} дюймов\")\n",
    "\n",
    "print(f\"\\nСредний рост женщин в приложении: {women_heights.mean():.2f} дюйма\")"
   ]
  },
  {
   "cell_type": "markdown",
   "metadata": {
    "id": "hCvk3w7ey6Bs"
   },
   "source": [
    "__Вывод:__ Средний рост двух полов из статистических данных достаточно близок к среднему росту данных из приложения. Однако по данным из приложения всё же пользователи, вероятно, завышают свой рост (разница со статистическими данными в случае мужского пола составила 1,3 дюйма, а с женским полом разница составила 0,83 дюйма)."
   ]
  },
  {
   "cell_type": "markdown",
   "metadata": {
    "id": "tT_rVPony6Bs"
   },
   "source": [
    "__б) [5 баллов]__ По моим наблюдениям (состоящим из одного человека) мужчин-алкоголиков гораздо больше женщин. В нашем датасете алкоголизмом мы будем считать параметр `is_heavy_drinker`\n",
    "\n",
    "Проверьте гипотезу: Действительно ли доля мужчин-алкоголиков выше доли женщин-алкоголиков?"
   ]
  },
  {
   "cell_type": "code",
   "execution_count": 27,
   "metadata": {
    "colab": {
     "base_uri": "https://localhost:8080/"
    },
    "id": "AxdKEy7ry6Bs",
    "outputId": "7b4b4258-f79c-453d-e820-e7ee1fa26d1f"
   },
   "outputs": [
    {
     "name": "stdout",
     "output_type": "stream",
     "text": [
      "Доля мужчин-алкоголиков: 0.0850\n",
      "Доля женщин-алкоголиков: 0.0775\n"
     ]
    }
   ],
   "source": [
    "men = df[df['sex'] == 'm']\n",
    "women = df[df['sex'] == 'f']\n",
    "\n",
    "men_heavy_drinkers = men['is_heavy_drinker'].mean()\n",
    "women_heavy_drinkers = women['is_heavy_drinker'].mean()\n",
    "\n",
    "print(f\"Доля мужчин-алкоголиков: {men_heavy_drinkers:.4f}\")\n",
    "print(f\"Доля женщин-алкоголиков: {women_heavy_drinkers:.4f}\")"
   ]
  },
  {
   "cell_type": "markdown",
   "metadata": {
    "id": "7DVnk_2Oy6Bs"
   },
   "source": [
    "__Вывод:__ Да, действительно доля мужчин-алкоголиков выше доли женщин-алкоголиков."
   ]
  },
  {
   "cell_type": "markdown",
   "metadata": {
    "id": "nfIrhkvQy6Bs"
   },
   "source": [
    "__в) [5 баллов]__ Мой друг Володька решил бросить курить и теперь курит только когда пьёт. Это навело меня на мысль о том, что курение привлекает алкоголиков сильнее, чем обычных людей.\n",
    "\n",
    "Проверьте гипотезу: Действительно ли алкоголики больше склонны к курению, чем неалкоголики?"
   ]
  },
  {
   "cell_type": "code",
   "execution_count": 28,
   "metadata": {
    "colab": {
     "base_uri": "https://localhost:8080/"
    },
    "id": "kwuGN-l2y6Bs",
    "outputId": "b9321b7e-c2cb-44d1-cb15-87c1eb5201ae"
   },
   "outputs": [
    {
     "name": "stdout",
     "output_type": "stream",
     "text": [
      "Доля курильщиков среди алкоголиков: 0.4268\n",
      "Доля курильщиков среди неалкоголиков: 0.3889\n"
     ]
    }
   ],
   "source": [
    "heavy_drinkers = df[df['is_heavy_drinker'] == True]\n",
    "non_heavy_drinkers = df[df['is_heavy_drinker'] == False]\n",
    "\n",
    "heavy_drinkers_smoking_rate = heavy_drinkers['smokes'].mean()\n",
    "non_heavy_drinkers_smoking_rate = non_heavy_drinkers['smokes'].mean()\n",
    "\n",
    "print(f\"Доля курильщиков среди алкоголиков: {heavy_drinkers_smoking_rate:.4f}\")\n",
    "print(f\"Доля курильщиков среди неалкоголиков: {non_heavy_drinkers_smoking_rate:.4f}\")"
   ]
  },
  {
   "cell_type": "markdown",
   "metadata": {
    "id": "BJOqgATey6Bs"
   },
   "source": [
    "**Вывод:** Да, действительно алкоголики больше склонны к курению, чем неалкоголики."
   ]
  },
  {
   "cell_type": "markdown",
   "metadata": {
    "id": "ZKe9vaFhy6Bt"
   },
   "source": [
    "### Задача №2: Глаза и волосья (20 баллов)\n",
    "\n",
    " <img alt=\"Dark\" src=\"img4.png\" width=300, align = \"center\">"
   ]
  },
  {
   "cell_type": "markdown",
   "metadata": {
    "id": "CSe11JHyy6Bt"
   },
   "source": [
    "Учеными уже доказано, что цвет волос и глаз передается наследственно: генетически моно объянить от 61\\% до 100\\% вариации в этих показателях. В [исследовании](https://www.cambridge.org/core/journals/twin-research-and-human-genetics/article/genetic-overlap-between-hair-and-eye-color/FA37E967F280E4B313B171A326AAFBB3#article) решили определить, какие факторы, помимо гена пигментации (меланина), могут влиять на внешний вид людей. Эксперимент проводился в Нидерландах и данные о нем можно найти в файле dataTask2.csv).\n",
    "\n",
    "Вам предстоит проанализровать зависимость двух показателей, располагающихся в соответсвующих колонках:\n",
    "\n",
    "1. Цвет волос (`HairColor`)\n",
    "- `Blond`\n",
    "- `Red`\n",
    "- `Brown`\n",
    "- `Black`\n",
    "\n",
    "2. Цвет глаз (`EyeColor`)\n",
    "\n",
    "- `Brown`\n",
    "- `Grey`\n",
    "- `Green`\n",
    "- `Green brown`\n"
   ]
  },
  {
   "cell_type": "code",
   "execution_count": 29,
   "metadata": {
    "colab": {
     "base_uri": "https://localhost:8080/",
     "height": 0
    },
    "id": "zrBFDkgZy6Bt",
    "outputId": "4c990c28-a2b4-4945-acb0-a53dd5cb5fee"
   },
   "outputs": [
    {
     "data": {
      "text/html": [
       "<div>\n",
       "<style scoped>\n",
       "    .dataframe tbody tr th:only-of-type {\n",
       "        vertical-align: middle;\n",
       "    }\n",
       "\n",
       "    .dataframe tbody tr th {\n",
       "        vertical-align: top;\n",
       "    }\n",
       "\n",
       "    .dataframe thead th {\n",
       "        text-align: right;\n",
       "    }\n",
       "</style>\n",
       "<table border=\"1\" class=\"dataframe\">\n",
       "  <thead>\n",
       "    <tr style=\"text-align: right;\">\n",
       "      <th></th>\n",
       "      <th>EyeColor</th>\n",
       "      <th>HairColor</th>\n",
       "    </tr>\n",
       "    <tr>\n",
       "      <th>Index</th>\n",
       "      <th></th>\n",
       "      <th></th>\n",
       "    </tr>\n",
       "  </thead>\n",
       "  <tbody>\n",
       "    <tr>\n",
       "      <th>0</th>\n",
       "      <td>Brown</td>\n",
       "      <td>Blond</td>\n",
       "    </tr>\n",
       "    <tr>\n",
       "      <th>1</th>\n",
       "      <td>Brown</td>\n",
       "      <td>Blond</td>\n",
       "    </tr>\n",
       "    <tr>\n",
       "      <th>2</th>\n",
       "      <td>Brown</td>\n",
       "      <td>Blond</td>\n",
       "    </tr>\n",
       "    <tr>\n",
       "      <th>3</th>\n",
       "      <td>Brown</td>\n",
       "      <td>Blond</td>\n",
       "    </tr>\n",
       "    <tr>\n",
       "      <th>4</th>\n",
       "      <td>Brown</td>\n",
       "      <td>Blond</td>\n",
       "    </tr>\n",
       "  </tbody>\n",
       "</table>\n",
       "</div>"
      ],
      "text/plain": [
       "      EyeColor HairColor\n",
       "Index                   \n",
       "0        Brown     Blond\n",
       "1        Brown     Blond\n",
       "2        Brown     Blond\n",
       "3        Brown     Blond\n",
       "4        Brown     Blond"
      ]
     },
     "execution_count": 29,
     "metadata": {},
     "output_type": "execute_result"
    }
   ],
   "source": [
    "df = pd.read_csv(\"https://raw.githubusercontent.com/hse-econ-data-science/andan2024/main/hw/data/data_hair_eye.csv\", index_col = \"Index\")\n",
    "df.head()"
   ]
  },
  {
   "cell_type": "markdown",
   "metadata": {
    "id": "KxWEzZfVy6Bt"
   },
   "source": [
    "**a) [3 балла]**. Вы имеете дело с \"длинным\" форматом данных, то есть каждой строке соответсвует одно наблюдение, а каждой колонке - отдельынй показатель. Теперь вам предстоит это изменить - перевести данные в формат таблицы сопряженности. Вспомнить ее вы можете из курса матстата, однако дополнительно можно почитать [здесь](https://mathworld.wolfram.com/ContingencyTable.html). Переведите данные в формат `contingency table`."
   ]
  },
  {
   "cell_type": "code",
   "execution_count": 30,
   "metadata": {
    "colab": {
     "base_uri": "https://localhost:8080/"
    },
    "id": "ed2Q1Nfdy6Bt",
    "outputId": "27a53b6b-eb85-48e1-884c-012e45426206"
   },
   "outputs": [
    {
     "name": "stdout",
     "output_type": "stream",
     "text": [
      "EyeColor     Blue  Brown    Gray  Green brown\n",
      "HairColor                                    \n",
      "Black        4428  11758    4653         4682\n",
      "Blond      155040  37102  121157        35517\n",
      "Brown       21970  31791   22294        16763\n",
      "Red          4595   1671    4000         1493\n"
     ]
    }
   ],
   "source": [
    "contingency_table = pd.crosstab(df['HairColor'], df['EyeColor'])\n",
    "print(contingency_table)"
   ]
  },
  {
   "cell_type": "markdown",
   "metadata": {
    "id": "2RYBoHkOy6Bt"
   },
   "source": [
    "**б) [3 балла]**. Далее необходимо проанализировать данные. Выведите самый популярный цвет волос и самый популярный цвет глаз в выборке. Также выведите выборочные вероятностьи встретить эти характеристки в категориях, где они занимают наименьшую долю (в цветах глаз и в цветах волос соответственно).\n",
    "\n",
    "Интерпретируйте результаты относительно страны, в которой проводилось исследование."
   ]
  },
  {
   "cell_type": "code",
   "execution_count": 31,
   "metadata": {
    "colab": {
     "base_uri": "https://localhost:8080/"
    },
    "id": "VD8qPvv1y6Bt",
    "outputId": "e0256672-dab9-4684-abee-66a658490a67"
   },
   "outputs": [
    {
     "name": "stdout",
     "output_type": "stream",
     "text": [
      "Самый популярный цвет волос: Blond\n",
      "Самый популярный цвет глаз: Blue\n",
      "Вероятность встретить самый популярный цвет волос (Blond) среди людей с наименее популярным цветом глаз (Green brown): 0.6076\n",
      "Вероятность встретить самый популярный цвет глаз (Blue) среди людей с наименее популярным цветом волос (Red): 0.3908\n"
     ]
    }
   ],
   "source": [
    "mp_hair = contingency_table.sum(axis=1).idxmax()\n",
    "lp_hair = contingency_table.sum(axis=1).idxmin()\n",
    "mp_eye = contingency_table.sum(axis=0).idxmax()\n",
    "lp_eye = contingency_table.sum(axis=0).idxmin()\n",
    "\n",
    "prob_mp_hair_lp_eye = contingency_table.loc[mp_hair, lp_eye] / contingency_table[lp_eye].sum()\n",
    "prob_mp_eye_lp_hair = contingency_table.loc[lp_hair, mp_eye] / contingency_table.loc[lp_hair].sum()\n",
    "\n",
    "print(f\"Самый популярный цвет волос: {mp_hair}\")\n",
    "print(f\"Самый популярный цвет глаз: {mp_eye}\")\n",
    "print(f\"Вероятность встретить самый популярный цвет волос ({mp_hair}) среди людей с наименее популярным цветом глаз ({lp_eye}): {prob_mp_hair_lp_eye:.4f}\")\n",
    "print(f\"Вероятность встретить самый популярный цвет глаз ({mp_eye}) среди людей с наименее популярным цветом волос ({lp_hair}): {prob_mp_eye_lp_hair:.4f}\")"
   ]
  },
  {
   "cell_type": "markdown",
   "metadata": {
    "id": "akhFJ1JHy6Bt"
   },
   "source": [
    "**Вывод:** Светлые волосы являются типичной чертой жителей северной Европы, и Нидерланды этому не исключение, по нашим данным Blond лидирует. Голубые глаза также присущи генотипу, проживающему в северной Европы. Голубые глаза доминируют в выборке, что соответствует распространенности этого цвета глаз среди местного населения.\n",
    "\n",
    "Менее распространенные комбинации, такие как блондинистые волосы с зелёно-карим цветом глаз и голубые глаза с рыжими волосами. Однако, эти комбинации также присутствуют, что указывает на генетическое разнообразие в популяции."
   ]
  },
  {
   "cell_type": "markdown",
   "metadata": {
    "id": "OQV-Voaly6Bt"
   },
   "source": [
    "**в) [3 балла]**. Визуализируйте распределение цветов глаз для каждого цвета волос. Попробуйте воспользоваться функцией [`mosaic()`](https://www.statsmodels.org/dev/generated/statsmodels.graphics.mosaicplot.mosaic.html), или же обычными столбчатыми графиками"
   ]
  },
  {
   "cell_type": "code",
   "execution_count": 32,
   "metadata": {
    "colab": {
     "base_uri": "https://localhost:8080/",
     "height": 0
    },
    "id": "GnSWvzRq3qAM",
    "outputId": "1fd57fc0-a236-486e-ed24-a8c1dc534b45"
   },
   "outputs": [
    {
     "data": {
      "image/png": "[encoded data removed]",
      "text/plain": [
       "<Figure size 640x480 with 1 Axes>"
      ]
     },
     "metadata": {},
     "output_type": "display_data"
    }
   ],
   "source": [
    "contingency_table.plot(kind='bar', stacked=True)\n",
    "plt.title('Распределение цвета глаз для каждого цвета волос')\n",
    "plt.xlabel('Цвет волос')\n",
    "plt.ylabel('Количество наблюдений')\n",
    "plt.legend(title='Цвет глаз')\n",
    "plt.show()"
   ]
  },
  {
   "cell_type": "markdown",
   "metadata": {
    "id": "llrHP5YMy6Bu"
   },
   "source": [
    "**г) [5 баллов]**. Рассчитайте суммы по столбцам, строкам, а также общую сумму. Рассчитайте тестовую $\\chi^2$ для теста на независимость двух переменных. Определите степени свободы у распределения получившеся статистики, найдите критическое значение $\\chi^2_{df}$ с помощью встроенной функции `.ppf()`"
   ]
  },
  {
   "cell_type": "code",
   "execution_count": 33,
   "metadata": {
    "colab": {
     "base_uri": "https://localhost:8080/"
    },
    "id": "2NWSge9cw-oD",
    "outputId": "114e0f5d-a89f-4cf2-ab98-df31e358d56a"
   },
   "outputs": [
    {
     "name": "stdout",
     "output_type": "stream",
     "text": [
      "Суммы по строкам:\n",
      "HairColor\n",
      "Black     25521\n",
      "Blond    348816\n",
      "Brown     92818\n",
      "Red       11759\n",
      "dtype: int64\n",
      "\n",
      "Суммы по столбцам:\n",
      "EyeColor\n",
      "Blue           186033\n",
      "Brown           82322\n",
      "Gray           152104\n",
      "Green brown     58455\n",
      "dtype: int64\n",
      "\n",
      "Общая сумма: 478914\n",
      "\n"
     ]
    }
   ],
   "source": [
    "row_sums = contingency_table.sum(axis=1)\n",
    "column_sums = contingency_table.sum(axis=0)\n",
    "total_sum = contingency_table.values.sum()\n",
    "print(f\"Суммы по строкам:\\n{row_sums}\\n\")\n",
    "print(f\"Суммы по столбцам:\\n{column_sums}\\n\")\n",
    "print(f\"Общая сумма: {total_sum}\\n\")"
   ]
  },
  {
   "cell_type": "code",
   "execution_count": 34,
   "metadata": {
    "id": "slbWEaZm2fCt"
   },
   "outputs": [],
   "source": [
    "from scipy.stats import chi2\n",
    "expected = np.outer(row_sums, column_sums) / total_sum # ожидаемые частоты\n",
    "\n",
    "observed = contingency_table.values\n",
    "chi2_stat = ((observed - expected) ** 2 / expected).sum()\n",
    "\n",
    "dof = (contingency_table.shape[0] - 1) * (contingency_table.shape[1] - 1)\n",
    "\n",
    "critical_value = chi2.ppf(0.95, dof)"
   ]
  },
  {
   "cell_type": "code",
   "execution_count": 35,
   "metadata": {
    "colab": {
     "base_uri": "https://localhost:8080/"
    },
    "id": "y2iU3DOv3LcE",
    "outputId": "9776eb77-ed92-47c6-ea62-bba94a7fe996"
   },
   "outputs": [
    {
     "name": "stdout",
     "output_type": "stream",
     "text": [
      "Тестовая статистика χ2: 57013.66\n",
      "Степени свободы: 9\n",
      "Критическое значение χ2: 16.92\n"
     ]
    }
   ],
   "source": [
    "print(f\"Тестовая статистика χ2: {chi2_stat:.2f}\")\n",
    "print(f\"Степени свободы: {dof}\")\n",
    "print(f\"Критическое значение χ2: {critical_value:.2f}\")"
   ]
  },
  {
   "cell_type": "markdown",
   "metadata": {
    "id": "nSYInuXEy6Bu"
   },
   "source": [
    "*Можете проверить себя, воспользовавшишь функцией `chi2_contingency()`*"
   ]
  },
  {
   "cell_type": "markdown",
   "metadata": {
    "id": "hz_tVCRp3hQ3"
   },
   "source": [
    "Проверка\n"
   ]
  },
  {
   "cell_type": "code",
   "execution_count": 36,
   "metadata": {
    "colab": {
     "base_uri": "https://localhost:8080/"
    },
    "id": "d6V3997gy6Bu",
    "outputId": "f20d2c52-24f4-4a89-c8c9-10f49fe9df4d"
   },
   "outputs": [
    {
     "name": "stdout",
     "output_type": "stream",
     "text": [
      "Тестовая статистика χ2: 57013.66\n",
      "Степени свободы: 9\n",
      "Критическое значение χ2: 16.92\n"
     ]
    }
   ],
   "source": [
    "from scipy.stats import chi2_contingency\n",
    "chi2_stat_pr, p_value, dof_pr, expected_pr = chi2_contingency(contingency_table)\n",
    "critical_value_pr = chi2.ppf(0.95, dof_pr)\n",
    "\n",
    "print(f\"Тестовая статистика χ2: {chi2_stat_pr:.2f}\")\n",
    "print(f\"Степени свободы: {dof_pr}\")\n",
    "print(f\"Критическое значение χ2: {critical_value_pr:.2f}\")"
   ]
  },
  {
   "cell_type": "markdown",
   "metadata": {
    "id": "eqlmo7jjy6Bu"
   },
   "source": [
    "**д) [3 балла]**. Постройте плотность распределения рассчитанной статистики, а найдите p-value точечной оценки, и обозначьте на графике. Также укажите несколько типичных уровней значимости $\\alpha$ и нанесите их на график. Проинтерпретируйте результаты."
   ]
  },
  {
   "cell_type": "code",
   "execution_count": 37,
   "metadata": {
    "colab": {
     "base_uri": "https://localhost:8080/",
     "height": 0
    },
    "id": "vpgzCNOey6Bu",
    "outputId": "3222a4d1-62bb-463c-8f47-6d660f52e43d"
   },
   "outputs": [
    {
     "data": {
      "image/png": "[encoded data removed]",
      "text/plain": [
       "<Figure size 1000x600 with 1 Axes>"
      ]
     },
     "metadata": {},
     "output_type": "display_data"
    }
   ],
   "source": [
    "p_value = 1 - chi2.cdf(chi2_stat, dof)\n",
    "alpha_lvl = [0.01, 0.05, 0.1]\n",
    "critical_values = [chi2.ppf(1 - alpha, dof) for alpha in alpha_lvl]\n",
    "\n",
    "x = np.linspace(0, chi2.ppf(0.99, dof), 1000)\n",
    "y = chi2.pdf(x, dof)\n",
    "\n",
    "plt.figure(figsize=(10, 6))\n",
    "plt.plot(x, y, label='χ2 распределение')\n",
    "#plt.axvline(chi2_stat, color='red', linestyle='--', label=f'χ2 статистика = {chi2_stat:.2f}')\n",
    "#plt.fill_between(x, 0, y, where=(x >= chi2_stat), color='red', alpha=0.3, label=f'p-value = {p_value:.4f}')\n",
    "\n",
    "for alpha, crit_val in zip(alpha_lvl, critical_values):\n",
    "    plt.axvline(crit_val, linestyle=':', color='blue', label=f'α = {alpha} (χ2 критическое = {crit_val:.2f})')\n",
    "\n",
    "plt.title('Плотность распределения χ2 и p-value')\n",
    "plt.xlabel('χ2 значение')\n",
    "plt.ylabel('Плотность')\n",
    "plt.legend()\n",
    "plt.grid(True)\n",
    "plt.show()"
   ]
  },
  {
   "cell_type": "code",
   "execution_count": 38,
   "metadata": {
    "colab": {
     "base_uri": "https://localhost:8080/",
     "height": 0
    },
    "id": "7Mtvm-OzQuID",
    "outputId": "61bf1e10-e69c-4a18-fa4e-57dbbd722bea"
   },
   "outputs": [
    {
     "data": {
      "image/png": "[encoded data removed]",
      "text/plain": [
       "<Figure size 1000x600 with 1 Axes>"
      ]
     },
     "metadata": {},
     "output_type": "display_data"
    }
   ],
   "source": [
    "p_value = 1 - chi2.cdf(chi2_stat, dof)\n",
    "alpha_lvl = [0.01, 0.05, 0.1]\n",
    "critical_values = [chi2.ppf(1 - alpha, dof) for alpha in alpha_lvl]\n",
    "\n",
    "x = np.linspace(0, chi2.ppf(0.99, dof), 1000)\n",
    "y = chi2.pdf(x, dof)\n",
    "\n",
    "plt.figure(figsize=(10, 6))\n",
    "plt.plot(x, y, label='χ2 распределение')\n",
    "plt.axvline(chi2_stat, color='red', linestyle='--', label=f'χ2 статистика = {chi2_stat:.2f}')\n",
    "plt.fill_between(x, 0, y, where=(x >= chi2_stat), color='red', alpha=0.3, label=f'p-value = {p_value:.4f}')\n",
    "\n",
    "for alpha, crit_val in zip(alpha_lvl, critical_values):\n",
    "    plt.axvline(crit_val, linestyle=':', color='blue', label=f'α = {alpha} (χ2 критическое = {crit_val:.2f})')\n",
    "\n",
    "plt.title('Плотность распределения χ2 и p-value')\n",
    "plt.xlabel('χ2 значение')\n",
    "plt.ylabel('Плотность')\n",
    "plt.legend()\n",
    "plt.grid(True)\n",
    "plt.show()"
   ]
  },
  {
   "cell_type": "markdown",
   "metadata": {
    "id": "MQyfKj9cy6Bu"
   },
   "source": [
    "**Вывод**: Наблюдаемое значение χ2 статистики значительно превышает критические значения для всех указанных уровней значимости α.\n",
    "p-значение равно нулю, это говорит о том, что наблюдаемое значение χ2 статистики крайне маловероятно при условии истинности нулевой гипотезы."
   ]
  },
  {
   "cell_type": "markdown",
   "metadata": {
    "id": "hX2DeIl8y6Bu"
   },
   "source": [
    "**е) [3 балла]**. Сделайте финальные выводы и при необходимости дополнительные расчеты, на которых они будут основываться. Есть ли стастистическая взаимосвязь между переменными. И если есть, то чем она может быть объяснена?"
   ]
  },
  {
   "cell_type": "markdown",
   "metadata": {
    "id": "Z-uIYcDyy6Bv"
   },
   "source": [
    "**Вывод**: Статистической связи между переменными χ2 распределение и χ2 статистика нет, и p-значение равное нулю нам это доказывает. Значение χ2 статистики сильно кратно превышает значение χ2 распределения."
   ]
  },
  {
   "cell_type": "markdown",
   "metadata": {
    "id": "vvNRlWU3y6Bv"
   },
   "source": [
    "### Задача №3. Тестируем новый интерфейс страницы отеля  (25 баллов)"
   ]
  },
  {
   "cell_type": "markdown",
   "metadata": {
    "id": "FpVOcn33y6Bv"
   },
   "source": [
    "Все мы любим отдыхать! А злые корпорации любят наживаться на нашем желании отдыхать.\n",
    "\n",
    "Представим что вы работаете в одной из таких корпораций и занимаетесь аналитикой сайта для бронирования отелей. Процесс бронирования имеет привычную структуру:\n",
    "- вбиваете в поиск направленния и даты\n",
    "- получаете выдачу вариантов отелей\n",
    "- переходите на страницу отеля\n",
    "- нажимаете кнопку \"забронировать\"\n",
    "- попадаете на страницу оплаты\n",
    "- оплачиваете\n",
    "\n",
    "Очевидно, на всех этапах этой воронки вы можете потерять пользователя. Поисследовав поведение пользователей вы решили внести изменения на странице об отеле и хотите чтобы выросла конверсия в бронирования"
   ]
  },
  {
   "cell_type": "markdown",
   "metadata": {
    "id": "Xqxmjsrky6Bv"
   },
   "source": [
    "__а) [3 балла]__ Подумайте, какие изменения могли бы быть внесены?\n",
    "\n",
    "**Ваш ответ:**\n",
    "\n",
    "1) Блок со скидками и акциями после 1 шага (вбиваете в поиск направленния и даты).\n",
    "\n",
    "2) Добавление фильтров и сортировки отелей.\n",
    "\n",
    "3) Работа над лакониичным, понятным пользователю интерфейсом.\n",
    "\n",
    "4) Возможность выбирать другой язык.\n",
    "\n",
    "5) Разные варианты оплаты, как для иностранных карт, так и для российских, а также вариант оплаты по qr-коду Alipay/WeChat для путешественников из Китая."
   ]
  },
  {
   "cell_type": "markdown",
   "metadata": {
    "id": "d3rKafSBy6Bv"
   },
   "source": [
    "Перед вами датасет `ab_test.csv`, в нем содержатся данные о пользователях в период теста\n",
    "\n",
    "`user_id` - уникальный идентификатор пользователя \\\n",
    "`sex` - пол пользователя \\\n",
    "`datetime` - дата и время посещения сайта (начала сессии) \\\n",
    "`district` - регион расположения отеля \\\n",
    "`hotel_page` - был ли пользователь на странице отеля в сессии \\\n",
    "`payment_page` - был ли пользователь на странице оплаты в сессии \\\n",
    "`payment` - была ли произведена оплата в сессии \\\n",
    "`group` - группа в эксперименте\n",
    "\n",
    "Поскольку изменения вносились на странице отеля нас интересуют именно дошедшие до этой страницы пользователи. Поэтому колонка `hotel_page` принимает значение 1 всегда"
   ]
  },
  {
   "cell_type": "code",
   "execution_count": 39,
   "metadata": {
    "colab": {
     "base_uri": "https://localhost:8080/",
     "height": 0
    },
    "id": "4CBOMRs0y6Bw",
    "outputId": "3da7249e-715c-44ab-d428-c46028ff90ac"
   },
   "outputs": [
    {
     "data": {
      "text/html": [
       "<div>\n",
       "<style scoped>\n",
       "    .dataframe tbody tr th:only-of-type {\n",
       "        vertical-align: middle;\n",
       "    }\n",
       "\n",
       "    .dataframe tbody tr th {\n",
       "        vertical-align: top;\n",
       "    }\n",
       "\n",
       "    .dataframe thead th {\n",
       "        text-align: right;\n",
       "    }\n",
       "</style>\n",
       "<table border=\"1\" class=\"dataframe\">\n",
       "  <thead>\n",
       "    <tr style=\"text-align: right;\">\n",
       "      <th></th>\n",
       "      <th>Unnamed: 0</th>\n",
       "      <th>user_id</th>\n",
       "      <th>sex</th>\n",
       "      <th>datetime</th>\n",
       "      <th>district</th>\n",
       "      <th>hotel_page</th>\n",
       "      <th>payment_page</th>\n",
       "      <th>payment</th>\n",
       "      <th>group</th>\n",
       "    </tr>\n",
       "  </thead>\n",
       "  <tbody>\n",
       "    <tr>\n",
       "      <th>0</th>\n",
       "      <td>0</td>\n",
       "      <td>3326449108867616315</td>\n",
       "      <td>1</td>\n",
       "      <td>11/15/2023 12:02 AM</td>\n",
       "      <td>Южный федеральный округ</td>\n",
       "      <td>1</td>\n",
       "      <td>1</td>\n",
       "      <td>0</td>\n",
       "      <td>control</td>\n",
       "    </tr>\n",
       "    <tr>\n",
       "      <th>1</th>\n",
       "      <td>1</td>\n",
       "      <td>7887645543455909870</td>\n",
       "      <td>1</td>\n",
       "      <td>11/02/2023 09:12 PM</td>\n",
       "      <td>Центральный федеральный округ</td>\n",
       "      <td>1</td>\n",
       "      <td>1</td>\n",
       "      <td>0</td>\n",
       "      <td>control</td>\n",
       "    </tr>\n",
       "    <tr>\n",
       "      <th>2</th>\n",
       "      <td>2</td>\n",
       "      <td>6148146969124793824</td>\n",
       "      <td>1</td>\n",
       "      <td>11/10/2023 10:06 AM</td>\n",
       "      <td>Центральный федеральный округ</td>\n",
       "      <td>1</td>\n",
       "      <td>1</td>\n",
       "      <td>1</td>\n",
       "      <td>control</td>\n",
       "    </tr>\n",
       "    <tr>\n",
       "      <th>3</th>\n",
       "      <td>3</td>\n",
       "      <td>2721602951940155275</td>\n",
       "      <td>0</td>\n",
       "      <td>11/12/2023 07:10 PM</td>\n",
       "      <td>Центральный федеральный округ</td>\n",
       "      <td>1</td>\n",
       "      <td>1</td>\n",
       "      <td>0</td>\n",
       "      <td>control</td>\n",
       "    </tr>\n",
       "    <tr>\n",
       "      <th>4</th>\n",
       "      <td>4</td>\n",
       "      <td>1829030712785972138</td>\n",
       "      <td>0</td>\n",
       "      <td>05/01/2024 05:19 AM</td>\n",
       "      <td>Южный федеральный округ</td>\n",
       "      <td>1</td>\n",
       "      <td>0</td>\n",
       "      <td>0</td>\n",
       "      <td>test</td>\n",
       "    </tr>\n",
       "  </tbody>\n",
       "</table>\n",
       "</div>"
      ],
      "text/plain": [
       "   Unnamed: 0              user_id  sex             datetime  \\\n",
       "0           0  3326449108867616315    1  11/15/2023 12:02 AM   \n",
       "1           1  7887645543455909870    1  11/02/2023 09:12 PM   \n",
       "2           2  6148146969124793824    1  11/10/2023 10:06 AM   \n",
       "3           3  2721602951940155275    0  11/12/2023 07:10 PM   \n",
       "4           4  1829030712785972138    0  05/01/2024 05:19 AM   \n",
       "\n",
       "                        district  hotel_page  payment_page  payment    group  \n",
       "0        Южный федеральный округ           1             1        0  control  \n",
       "1  Центральный федеральный округ           1             1        0  control  \n",
       "2  Центральный федеральный округ           1             1        1  control  \n",
       "3  Центральный федеральный округ           1             1        0  control  \n",
       "4        Южный федеральный округ           1             0        0     test  "
      ]
     },
     "execution_count": 39,
     "metadata": {},
     "output_type": "execute_result"
    }
   ],
   "source": [
    "df = pd.read_csv(\"https://raw.githubusercontent.com/hse-econ-data-science/andan2024/main/hw/data/ab_simpson.csv\")\n",
    "df.head()"
   ]
  },
  {
   "cell_type": "markdown",
   "metadata": {
    "id": "IpuQ1bPVy6Bw"
   },
   "source": [
    "__б) [3 балла]__ Сделайте небольшой eda, какие выводы вы можете сделать о данных? Корректно ли проводился аб тест? Найдите ошибки и объясните почему это некорректно."
   ]
  },
  {
   "cell_type": "markdown",
   "metadata": {
    "id": "G2YelgqIYHq3"
   },
   "source": [
    "1) Получение основной информации о каждом столбце."
   ]
  },
  {
   "cell_type": "code",
   "execution_count": 40,
   "metadata": {
    "colab": {
     "base_uri": "https://localhost:8080/"
    },
    "id": "AtRxWcday6Bw",
    "outputId": "8c25cfb4-7544-4c59-f04d-f7032d4e6171"
   },
   "outputs": [
    {
     "name": "stdout",
     "output_type": "stream",
     "text": [
      "<class 'pandas.core.frame.DataFrame'>\n",
      "RangeIndex: 401807 entries, 0 to 401806\n",
      "Data columns (total 9 columns):\n",
      " #   Column        Non-Null Count   Dtype \n",
      "---  ------        --------------   ----- \n",
      " 0   Unnamed: 0    401807 non-null  int64 \n",
      " 1   user_id       401807 non-null  int64 \n",
      " 2   sex           401807 non-null  int64 \n",
      " 3   datetime      401807 non-null  object\n",
      " 4   district      401807 non-null  object\n",
      " 5   hotel_page    401807 non-null  int64 \n",
      " 6   payment_page  401807 non-null  int64 \n",
      " 7   payment       401807 non-null  int64 \n",
      " 8   group         401807 non-null  object\n",
      "dtypes: int64(6), object(3)\n",
      "memory usage: 27.6+ MB\n"
     ]
    }
   ],
   "source": [
    "df.info()"
   ]
  },
  {
   "cell_type": "markdown",
   "metadata": {
    "id": "VNY1EewgY32T"
   },
   "source": [
    "2) Получение статистической информации по каждому столбцу"
   ]
  },
  {
   "cell_type": "code",
   "execution_count": 41,
   "metadata": {
    "colab": {
     "base_uri": "https://localhost:8080/",
     "height": 0
    },
    "id": "j0UH8IunY4LH",
    "outputId": "6d31a6b5-7d82-45c0-d333-c62cd15052d5"
   },
   "outputs": [
    {
     "data": {
      "text/html": [
       "<div>\n",
       "<style scoped>\n",
       "    .dataframe tbody tr th:only-of-type {\n",
       "        vertical-align: middle;\n",
       "    }\n",
       "\n",
       "    .dataframe tbody tr th {\n",
       "        vertical-align: top;\n",
       "    }\n",
       "\n",
       "    .dataframe thead th {\n",
       "        text-align: right;\n",
       "    }\n",
       "</style>\n",
       "<table border=\"1\" class=\"dataframe\">\n",
       "  <thead>\n",
       "    <tr style=\"text-align: right;\">\n",
       "      <th></th>\n",
       "      <th>Unnamed: 0</th>\n",
       "      <th>user_id</th>\n",
       "      <th>sex</th>\n",
       "      <th>datetime</th>\n",
       "      <th>district</th>\n",
       "      <th>hotel_page</th>\n",
       "      <th>payment_page</th>\n",
       "      <th>payment</th>\n",
       "      <th>group</th>\n",
       "    </tr>\n",
       "  </thead>\n",
       "  <tbody>\n",
       "    <tr>\n",
       "      <th>count</th>\n",
       "      <td>401807.000000</td>\n",
       "      <td>4.018070e+05</td>\n",
       "      <td>401807.000000</td>\n",
       "      <td>401807</td>\n",
       "      <td>401807</td>\n",
       "      <td>401807.0</td>\n",
       "      <td>401807.000000</td>\n",
       "      <td>401807.000000</td>\n",
       "      <td>401807</td>\n",
       "    </tr>\n",
       "    <tr>\n",
       "      <th>unique</th>\n",
       "      <td>NaN</td>\n",
       "      <td>NaN</td>\n",
       "      <td>NaN</td>\n",
       "      <td>34705</td>\n",
       "      <td>7</td>\n",
       "      <td>NaN</td>\n",
       "      <td>NaN</td>\n",
       "      <td>NaN</td>\n",
       "      <td>2</td>\n",
       "    </tr>\n",
       "    <tr>\n",
       "      <th>top</th>\n",
       "      <td>NaN</td>\n",
       "      <td>NaN</td>\n",
       "      <td>NaN</td>\n",
       "      <td>05/02/2024 05:51 AM</td>\n",
       "      <td>Южный федеральный округ</td>\n",
       "      <td>NaN</td>\n",
       "      <td>NaN</td>\n",
       "      <td>NaN</td>\n",
       "      <td>test</td>\n",
       "    </tr>\n",
       "    <tr>\n",
       "      <th>freq</th>\n",
       "      <td>NaN</td>\n",
       "      <td>NaN</td>\n",
       "      <td>NaN</td>\n",
       "      <td>33</td>\n",
       "      <td>120749</td>\n",
       "      <td>NaN</td>\n",
       "      <td>NaN</td>\n",
       "      <td>NaN</td>\n",
       "      <td>201935</td>\n",
       "    </tr>\n",
       "    <tr>\n",
       "      <th>mean</th>\n",
       "      <td>200903.000000</td>\n",
       "      <td>4.615212e+18</td>\n",
       "      <td>0.499994</td>\n",
       "      <td>NaN</td>\n",
       "      <td>NaN</td>\n",
       "      <td>1.0</td>\n",
       "      <td>0.741824</td>\n",
       "      <td>0.292242</td>\n",
       "      <td>NaN</td>\n",
       "    </tr>\n",
       "    <tr>\n",
       "      <th>std</th>\n",
       "      <td>115991.834144</td>\n",
       "      <td>2.662886e+18</td>\n",
       "      <td>0.500001</td>\n",
       "      <td>NaN</td>\n",
       "      <td>NaN</td>\n",
       "      <td>0.0</td>\n",
       "      <td>0.437632</td>\n",
       "      <td>0.454794</td>\n",
       "      <td>NaN</td>\n",
       "    </tr>\n",
       "    <tr>\n",
       "      <th>min</th>\n",
       "      <td>0.000000</td>\n",
       "      <td>5.888584e+13</td>\n",
       "      <td>0.000000</td>\n",
       "      <td>NaN</td>\n",
       "      <td>NaN</td>\n",
       "      <td>1.0</td>\n",
       "      <td>0.000000</td>\n",
       "      <td>0.000000</td>\n",
       "      <td>NaN</td>\n",
       "    </tr>\n",
       "    <tr>\n",
       "      <th>25%</th>\n",
       "      <td>100451.500000</td>\n",
       "      <td>2.309885e+18</td>\n",
       "      <td>0.000000</td>\n",
       "      <td>NaN</td>\n",
       "      <td>NaN</td>\n",
       "      <td>1.0</td>\n",
       "      <td>0.000000</td>\n",
       "      <td>0.000000</td>\n",
       "      <td>NaN</td>\n",
       "    </tr>\n",
       "    <tr>\n",
       "      <th>50%</th>\n",
       "      <td>200903.000000</td>\n",
       "      <td>4.610460e+18</td>\n",
       "      <td>0.000000</td>\n",
       "      <td>NaN</td>\n",
       "      <td>NaN</td>\n",
       "      <td>1.0</td>\n",
       "      <td>1.000000</td>\n",
       "      <td>0.000000</td>\n",
       "      <td>NaN</td>\n",
       "    </tr>\n",
       "    <tr>\n",
       "      <th>75%</th>\n",
       "      <td>301354.500000</td>\n",
       "      <td>6.923790e+18</td>\n",
       "      <td>1.000000</td>\n",
       "      <td>NaN</td>\n",
       "      <td>NaN</td>\n",
       "      <td>1.0</td>\n",
       "      <td>1.000000</td>\n",
       "      <td>1.000000</td>\n",
       "      <td>NaN</td>\n",
       "    </tr>\n",
       "    <tr>\n",
       "      <th>max</th>\n",
       "      <td>401806.000000</td>\n",
       "      <td>9.223335e+18</td>\n",
       "      <td>1.000000</td>\n",
       "      <td>NaN</td>\n",
       "      <td>NaN</td>\n",
       "      <td>1.0</td>\n",
       "      <td>1.000000</td>\n",
       "      <td>1.000000</td>\n",
       "      <td>NaN</td>\n",
       "    </tr>\n",
       "  </tbody>\n",
       "</table>\n",
       "</div>"
      ],
      "text/plain": [
       "           Unnamed: 0       user_id            sex             datetime  \\\n",
       "count   401807.000000  4.018070e+05  401807.000000               401807   \n",
       "unique            NaN           NaN            NaN                34705   \n",
       "top               NaN           NaN            NaN  05/02/2024 05:51 AM   \n",
       "freq              NaN           NaN            NaN                   33   \n",
       "mean    200903.000000  4.615212e+18       0.499994                  NaN   \n",
       "std     115991.834144  2.662886e+18       0.500001                  NaN   \n",
       "min          0.000000  5.888584e+13       0.000000                  NaN   \n",
       "25%     100451.500000  2.309885e+18       0.000000                  NaN   \n",
       "50%     200903.000000  4.610460e+18       0.000000                  NaN   \n",
       "75%     301354.500000  6.923790e+18       1.000000                  NaN   \n",
       "max     401806.000000  9.223335e+18       1.000000                  NaN   \n",
       "\n",
       "                       district  hotel_page   payment_page        payment  \\\n",
       "count                    401807    401807.0  401807.000000  401807.000000   \n",
       "unique                        7         NaN            NaN            NaN   \n",
       "top     Южный федеральный округ         NaN            NaN            NaN   \n",
       "freq                     120749         NaN            NaN            NaN   \n",
       "mean                        NaN         1.0       0.741824       0.292242   \n",
       "std                         NaN         0.0       0.437632       0.454794   \n",
       "min                         NaN         1.0       0.000000       0.000000   \n",
       "25%                         NaN         1.0       0.000000       0.000000   \n",
       "50%                         NaN         1.0       1.000000       0.000000   \n",
       "75%                         NaN         1.0       1.000000       1.000000   \n",
       "max                         NaN         1.0       1.000000       1.000000   \n",
       "\n",
       "         group  \n",
       "count   401807  \n",
       "unique       2  \n",
       "top       test  \n",
       "freq    201935  \n",
       "mean       NaN  \n",
       "std        NaN  \n",
       "min        NaN  \n",
       "25%        NaN  \n",
       "50%        NaN  \n",
       "75%        NaN  \n",
       "max        NaN  "
      ]
     },
     "execution_count": 41,
     "metadata": {},
     "output_type": "execute_result"
    }
   ],
   "source": [
    "df.describe(include='all')"
   ]
  },
  {
   "cell_type": "markdown",
   "metadata": {
    "id": "vsM8MOBhYNE-"
   },
   "source": [
    "3) Подсчёт количества записей в каждом федеральном округе."
   ]
  },
  {
   "cell_type": "code",
   "execution_count": 42,
   "metadata": {
    "colab": {
     "base_uri": "https://localhost:8080/"
    },
    "id": "P1me6hf8XTNj",
    "outputId": "4c14725c-5308-43f8-e104-2d5d458e35b4"
   },
   "outputs": [
    {
     "data": {
      "text/plain": [
       "Южный федеральный округ              120749\n",
       "Центральный федеральный округ        120336\n",
       "Приволжский федеральный округ         60333\n",
       "Северо-Западный федеральный округ     50071\n",
       "Уральский федеральный округ           26189\n",
       "Сибирский федеральный округ           16072\n",
       "Дальневосточный федеральный округ      8057\n",
       "Name: district, dtype: int64"
      ]
     },
     "execution_count": 42,
     "metadata": {},
     "output_type": "execute_result"
    }
   ],
   "source": [
    "df['district'].value_counts()"
   ]
  },
  {
   "cell_type": "code",
   "execution_count": 43,
   "metadata": {
    "colab": {
     "base_uri": "https://localhost:8080/"
    },
    "id": "IMNTQJD5ZzOo",
    "outputId": "d2f015f1-ec0d-4601-d90f-0ed261d6eb01"
   },
   "outputs": [
    {
     "data": {
      "text/plain": [
       "test       0.502567\n",
       "control    0.497433\n",
       "Name: group, dtype: float64"
      ]
     },
     "execution_count": 43,
     "metadata": {},
     "output_type": "execute_result"
    }
   ],
   "source": [
    "df['group'].value_counts(normalize=True)"
   ]
  },
  {
   "cell_type": "markdown",
   "metadata": {
    "id": "glt1PaFUYXzu"
   },
   "source": [
    "4) Воронка конверсии. Подсчёт количества пользователей, посетивших страницу отеля, перешедших на страницу оплаты и завершивших оплату для 2х групп."
   ]
  },
  {
   "cell_type": "code",
   "execution_count": 44,
   "metadata": {
    "colab": {
     "base_uri": "https://localhost:8080/",
     "height": 0
    },
    "id": "jjQDIYJ8Xry8",
    "outputId": "877ae462-dcb2-4164-8b77-3c3d84863079"
   },
   "outputs": [
    {
     "data": {
      "text/html": [
       "<div>\n",
       "<style scoped>\n",
       "    .dataframe tbody tr th:only-of-type {\n",
       "        vertical-align: middle;\n",
       "    }\n",
       "\n",
       "    .dataframe tbody tr th {\n",
       "        vertical-align: top;\n",
       "    }\n",
       "\n",
       "    .dataframe thead th {\n",
       "        text-align: right;\n",
       "    }\n",
       "</style>\n",
       "<table border=\"1\" class=\"dataframe\">\n",
       "  <thead>\n",
       "    <tr style=\"text-align: right;\">\n",
       "      <th></th>\n",
       "      <th>group</th>\n",
       "      <th>total_users</th>\n",
       "      <th>visited_hotel_page</th>\n",
       "      <th>visited_payment_page</th>\n",
       "      <th>completed_payment</th>\n",
       "    </tr>\n",
       "  </thead>\n",
       "  <tbody>\n",
       "    <tr>\n",
       "      <th>0</th>\n",
       "      <td>control</td>\n",
       "      <td>199872</td>\n",
       "      <td>199872</td>\n",
       "      <td>151303</td>\n",
       "      <td>50002</td>\n",
       "    </tr>\n",
       "    <tr>\n",
       "      <th>1</th>\n",
       "      <td>test</td>\n",
       "      <td>201935</td>\n",
       "      <td>201935</td>\n",
       "      <td>146767</td>\n",
       "      <td>67423</td>\n",
       "    </tr>\n",
       "  </tbody>\n",
       "</table>\n",
       "</div>"
      ],
      "text/plain": [
       "     group  total_users  visited_hotel_page  visited_payment_page  \\\n",
       "0  control       199872              199872                151303   \n",
       "1     test       201935              201935                146767   \n",
       "\n",
       "   completed_payment  \n",
       "0              50002  \n",
       "1              67423  "
      ]
     },
     "execution_count": 44,
     "metadata": {},
     "output_type": "execute_result"
    }
   ],
   "source": [
    "conversion_funnel = df.groupby('group').agg(\n",
    "    total_users=('user_id', 'count'),\n",
    "    visited_hotel_page=('hotel_page', 'sum'),\n",
    "    visited_payment_page=('payment_page', 'sum'),\n",
    "    completed_payment=('payment', 'sum')\n",
    ").reset_index()\n",
    "\n",
    "conversion_funnel"
   ]
  },
  {
   "cell_type": "markdown",
   "metadata": {
    "id": "fQMH7DWgZVAA"
   },
   "source": [
    "5) Проверка временного периода."
   ]
  },
  {
   "cell_type": "code",
   "execution_count": 45,
   "metadata": {
    "colab": {
     "base_uri": "https://localhost:8080/",
     "height": 0
    },
    "id": "RjMHNfa-ZXyE",
    "outputId": "e17fa923-3c15-49e5-c390-f769e35ef47e"
   },
   "outputs": [
    {
     "data": {
      "text/html": [
       "<div>\n",
       "<style scoped>\n",
       "    .dataframe tbody tr th:only-of-type {\n",
       "        vertical-align: middle;\n",
       "    }\n",
       "\n",
       "    .dataframe tbody tr th {\n",
       "        vertical-align: top;\n",
       "    }\n",
       "\n",
       "    .dataframe thead th {\n",
       "        text-align: right;\n",
       "    }\n",
       "</style>\n",
       "<table border=\"1\" class=\"dataframe\">\n",
       "  <thead>\n",
       "    <tr style=\"text-align: right;\">\n",
       "      <th></th>\n",
       "      <th>count</th>\n",
       "      <th>unique</th>\n",
       "      <th>top</th>\n",
       "      <th>freq</th>\n",
       "    </tr>\n",
       "    <tr>\n",
       "      <th>group</th>\n",
       "      <th></th>\n",
       "      <th></th>\n",
       "      <th></th>\n",
       "      <th></th>\n",
       "    </tr>\n",
       "  </thead>\n",
       "  <tbody>\n",
       "    <tr>\n",
       "      <th>control</th>\n",
       "      <td>199872</td>\n",
       "      <td>21536</td>\n",
       "      <td>11/13/2023 07:33 PM</td>\n",
       "      <td>25</td>\n",
       "    </tr>\n",
       "    <tr>\n",
       "      <th>test</th>\n",
       "      <td>201935</td>\n",
       "      <td>13169</td>\n",
       "      <td>05/02/2024 05:51 AM</td>\n",
       "      <td>33</td>\n",
       "    </tr>\n",
       "  </tbody>\n",
       "</table>\n",
       "</div>"
      ],
      "text/plain": [
       "          count unique                  top freq\n",
       "group                                           \n",
       "control  199872  21536  11/13/2023 07:33 PM   25\n",
       "test     201935  13169  05/02/2024 05:51 AM   33"
      ]
     },
     "execution_count": 45,
     "metadata": {},
     "output_type": "execute_result"
    }
   ],
   "source": [
    "df.groupby('group')['datetime'].describe()"
   ]
  },
  {
   "cell_type": "markdown",
   "metadata": {
    "id": "uWrQ_fxqc4wO"
   },
   "source": [
    "**Вывод**: Данные не содержат пропусков, однако записи по федеральным округам распределены совсем неравномерно, а также по ниже представленным причинам я могу утверждать, что аб-тест проводился некорректно.\n",
    "\n",
    "1) Контрольная группа имеет наибольшую частоту записей в ноябре 2023 года, в то время как тестовая группа имеет наибольшую частоту записей в мае 2024 года. Из-за сезонности этот факт влечёт некорректные результаты.\n",
    "\n",
    "2) Контрольная группа имеет гораздо большее количество уникальных временных меток (21536) по сравнению с тестовой группой (13169). Это снижает достоверность теста."
   ]
  },
  {
   "cell_type": "markdown",
   "metadata": {
    "id": "CObULofdy6Bw"
   },
   "source": [
    "Раскроем правду. Изменение продукта касалось адаптации страницы отеля под его регион. Например, в южных регионах пользователям на странице отеля предлагались активности для пляжного отдыха, а в северном и центральном регионе сразу подбирались ближайшие экскурсии и так далее.\n",
    "\n",
    "__в) [5 баллов]__ Проанализируйте, как ведут себя конверсии в страницу оплаты и в оплату в разных регионах? Опишите выводы."
   ]
  },
  {
   "cell_type": "code",
   "execution_count": 46,
   "metadata": {
    "colab": {
     "base_uri": "https://localhost:8080/",
     "height": 0
    },
    "id": "2nr8NovCs_wj",
    "outputId": "e3f21e3c-c3bf-4cfe-95d7-a47697423a76"
   },
   "outputs": [
    {
     "data": {
      "text/html": [
       "<div>\n",
       "<style scoped>\n",
       "    .dataframe tbody tr th:only-of-type {\n",
       "        vertical-align: middle;\n",
       "    }\n",
       "\n",
       "    .dataframe tbody tr th {\n",
       "        vertical-align: top;\n",
       "    }\n",
       "\n",
       "    .dataframe thead th {\n",
       "        text-align: right;\n",
       "    }\n",
       "</style>\n",
       "<table border=\"1\" class=\"dataframe\">\n",
       "  <thead>\n",
       "    <tr style=\"text-align: right;\">\n",
       "      <th></th>\n",
       "      <th>district</th>\n",
       "      <th>total_users</th>\n",
       "      <th>visited_hotel_page</th>\n",
       "      <th>visited_payment_page</th>\n",
       "      <th>completed_payment</th>\n",
       "      <th>conversion_to_page</th>\n",
       "      <th>conversion_to_payment</th>\n",
       "    </tr>\n",
       "  </thead>\n",
       "  <tbody>\n",
       "    <tr>\n",
       "      <th>0</th>\n",
       "      <td>Дальневосточный федеральный округ</td>\n",
       "      <td>8057</td>\n",
       "      <td>8057</td>\n",
       "      <td>1412</td>\n",
       "      <td>2492</td>\n",
       "      <td>0.175251</td>\n",
       "      <td>1.764873</td>\n",
       "    </tr>\n",
       "    <tr>\n",
       "      <th>1</th>\n",
       "      <td>Приволжский федеральный округ</td>\n",
       "      <td>60333</td>\n",
       "      <td>60333</td>\n",
       "      <td>38017</td>\n",
       "      <td>18205</td>\n",
       "      <td>0.630120</td>\n",
       "      <td>0.478865</td>\n",
       "    </tr>\n",
       "    <tr>\n",
       "      <th>2</th>\n",
       "      <td>Северо-Западный федеральный округ</td>\n",
       "      <td>50071</td>\n",
       "      <td>50071</td>\n",
       "      <td>35252</td>\n",
       "      <td>13416</td>\n",
       "      <td>0.704040</td>\n",
       "      <td>0.380574</td>\n",
       "    </tr>\n",
       "    <tr>\n",
       "      <th>3</th>\n",
       "      <td>Сибирский федеральный округ</td>\n",
       "      <td>16072</td>\n",
       "      <td>16072</td>\n",
       "      <td>4983</td>\n",
       "      <td>4637</td>\n",
       "      <td>0.310042</td>\n",
       "      <td>0.930564</td>\n",
       "    </tr>\n",
       "    <tr>\n",
       "      <th>4</th>\n",
       "      <td>Уральский федеральный округ</td>\n",
       "      <td>26189</td>\n",
       "      <td>26189</td>\n",
       "      <td>11485</td>\n",
       "      <td>8112</td>\n",
       "      <td>0.438543</td>\n",
       "      <td>0.706313</td>\n",
       "    </tr>\n",
       "    <tr>\n",
       "      <th>5</th>\n",
       "      <td>Центральный федеральный округ</td>\n",
       "      <td>120336</td>\n",
       "      <td>120336</td>\n",
       "      <td>109514</td>\n",
       "      <td>33426</td>\n",
       "      <td>0.910068</td>\n",
       "      <td>0.305221</td>\n",
       "    </tr>\n",
       "    <tr>\n",
       "      <th>6</th>\n",
       "      <td>Южный федеральный округ</td>\n",
       "      <td>120749</td>\n",
       "      <td>120749</td>\n",
       "      <td>97407</td>\n",
       "      <td>37137</td>\n",
       "      <td>0.806690</td>\n",
       "      <td>0.381256</td>\n",
       "    </tr>\n",
       "  </tbody>\n",
       "</table>\n",
       "</div>"
      ],
      "text/plain": [
       "                            district  total_users  visited_hotel_page  \\\n",
       "0  Дальневосточный федеральный округ         8057                8057   \n",
       "1      Приволжский федеральный округ        60333               60333   \n",
       "2  Северо-Западный федеральный округ        50071               50071   \n",
       "3        Сибирский федеральный округ        16072               16072   \n",
       "4        Уральский федеральный округ        26189               26189   \n",
       "5      Центральный федеральный округ       120336              120336   \n",
       "6            Южный федеральный округ       120749              120749   \n",
       "\n",
       "   visited_payment_page  completed_payment  conversion_to_page  \\\n",
       "0                  1412               2492            0.175251   \n",
       "1                 38017              18205            0.630120   \n",
       "2                 35252              13416            0.704040   \n",
       "3                  4983               4637            0.310042   \n",
       "4                 11485               8112            0.438543   \n",
       "5                109514              33426            0.910068   \n",
       "6                 97407              37137            0.806690   \n",
       "\n",
       "   conversion_to_payment  \n",
       "0               1.764873  \n",
       "1               0.478865  \n",
       "2               0.380574  \n",
       "3               0.930564  \n",
       "4               0.706313  \n",
       "5               0.305221  \n",
       "6               0.381256  "
      ]
     },
     "execution_count": 46,
     "metadata": {},
     "output_type": "execute_result"
    }
   ],
   "source": [
    "conversion_funnel = df.groupby('district').agg(\n",
    "    total_users=('user_id', 'count'),\n",
    "    visited_hotel_page=('hotel_page', 'sum'),\n",
    "    visited_payment_page=('payment_page', 'sum'),\n",
    "    completed_payment=('payment', 'sum')\n",
    ").reset_index()\n",
    "\n",
    "conversion_funnel['conversion_to_page'] = conversion_funnel['visited_payment_page'] / conversion_funnel['visited_hotel_page']\n",
    "conversion_funnel['conversion_to_payment'] = conversion_funnel['completed_payment'] / conversion_funnel['visited_payment_page']\n",
    "conversion_funnel"
   ]
  },
  {
   "cell_type": "markdown",
   "metadata": {
    "id": "8yDpraGAlT8o"
   },
   "source": [
    "**Вывод**: Результаты неоднозначные, в одних регионах гораздо выше конверсии в страницу оплаты, в других же конверсии в саму оплату. Очень смутил результат ДВФО, как вышло так что оплат прошло больше, чем посещений страниц оплаты - не известно..."
   ]
  },
  {
   "cell_type": "markdown",
   "metadata": {
    "id": "nGZi3fQOy6Bw"
   },
   "source": [
    "__г) [5 баллов]__ Проанализируйте, улучшилась ли воронка для пользователей в тестовой группе по сравнению с контрольной вне зависимости от региона? Опишите выводы."
   ]
  },
  {
   "cell_type": "code",
   "execution_count": 47,
   "metadata": {
    "colab": {
     "base_uri": "https://localhost:8080/",
     "height": 0
    },
    "id": "k_EV0DXoFPpX",
    "outputId": "ef812933-fc55-4d43-c92c-f8f7f53106b4"
   },
   "outputs": [
    {
     "data": {
      "text/html": [
       "<div>\n",
       "<style scoped>\n",
       "    .dataframe tbody tr th:only-of-type {\n",
       "        vertical-align: middle;\n",
       "    }\n",
       "\n",
       "    .dataframe tbody tr th {\n",
       "        vertical-align: top;\n",
       "    }\n",
       "\n",
       "    .dataframe thead th {\n",
       "        text-align: right;\n",
       "    }\n",
       "</style>\n",
       "<table border=\"1\" class=\"dataframe\">\n",
       "  <thead>\n",
       "    <tr style=\"text-align: right;\">\n",
       "      <th></th>\n",
       "      <th>group</th>\n",
       "      <th>total_users</th>\n",
       "      <th>visited_hotel_page</th>\n",
       "      <th>visited_payment_page</th>\n",
       "      <th>completed_payment</th>\n",
       "      <th>conversion_to_page</th>\n",
       "      <th>conversion_to_payment</th>\n",
       "    </tr>\n",
       "  </thead>\n",
       "  <tbody>\n",
       "    <tr>\n",
       "      <th>0</th>\n",
       "      <td>control</td>\n",
       "      <td>199872</td>\n",
       "      <td>199872</td>\n",
       "      <td>151303</td>\n",
       "      <td>50002</td>\n",
       "      <td>0.756999</td>\n",
       "      <td>0.330476</td>\n",
       "    </tr>\n",
       "    <tr>\n",
       "      <th>1</th>\n",
       "      <td>test</td>\n",
       "      <td>201935</td>\n",
       "      <td>201935</td>\n",
       "      <td>146767</td>\n",
       "      <td>67423</td>\n",
       "      <td>0.726803</td>\n",
       "      <td>0.459388</td>\n",
       "    </tr>\n",
       "  </tbody>\n",
       "</table>\n",
       "</div>"
      ],
      "text/plain": [
       "     group  total_users  visited_hotel_page  visited_payment_page  \\\n",
       "0  control       199872              199872                151303   \n",
       "1     test       201935              201935                146767   \n",
       "\n",
       "   completed_payment  conversion_to_page  conversion_to_payment  \n",
       "0              50002            0.756999               0.330476  \n",
       "1              67423            0.726803               0.459388  "
      ]
     },
     "execution_count": 47,
     "metadata": {},
     "output_type": "execute_result"
    }
   ],
   "source": [
    "conversion_funnel_groups = df.groupby('group').agg(\n",
    "    total_users=('user_id', 'count'),\n",
    "    visited_hotel_page=('hotel_page', 'sum'),\n",
    "    visited_payment_page=('payment_page', 'sum'),\n",
    "    completed_payment=('payment', 'sum')\n",
    ").reset_index()\n",
    "\n",
    "conversion_funnel_groups['conversion_to_page'] = conversion_funnel_groups['visited_payment_page'] / conversion_funnel_groups['visited_hotel_page']\n",
    "conversion_funnel_groups['conversion_to_payment'] = conversion_funnel_groups['completed_payment'] / conversion_funnel_groups['visited_payment_page']\n",
    "\n",
    "conversion_funnel_groups"
   ]
  },
  {
   "cell_type": "markdown",
   "metadata": {
    "id": "fJvLQitTFd0N"
   },
   "source": [
    "**Вывод**: Да, сравнивая значения строк в столбце \"conversion_to_payment\", значения тестовой группы больше на 40%, несмотря на то, что значения в столбце \"conversion_to_page\" практически равны."
   ]
  },
  {
   "cell_type": "markdown",
   "metadata": {
    "id": "EoRjRB9ty6Bw"
   },
   "source": [
    "__д) [5 баллов]__ Проанализируйте распределение интересов пользователей в тестовой и контрольной группе. Какими регионами они интересовались? Изменились ли их предпочтения?"
   ]
  },
  {
   "cell_type": "markdown",
   "metadata": {
    "id": "Hyt6vQA2I59x"
   },
   "source": [
    "1) Группировка данных по группам эксперимента и регионам."
   ]
  },
  {
   "cell_type": "code",
   "execution_count": 48,
   "metadata": {
    "id": "9QMVXHwVI_T-"
   },
   "outputs": [],
   "source": [
    "interest_distribution = df.groupby(['group', 'district']).agg(\n",
    "    total_users=('user_id', 'count')\n",
    ").reset_index()"
   ]
  },
  {
   "cell_type": "markdown",
   "metadata": {
    "id": "SF4RdeXZJFkt"
   },
   "source": [
    "2) Подсчет общего количества пользователей в каждой группе, объединение данных для расчета долей."
   ]
  },
  {
   "cell_type": "code",
   "execution_count": 49,
   "metadata": {
    "id": "ICYqvCp9JPUK"
   },
   "outputs": [],
   "source": [
    "total_users_group = df.groupby('group').agg(\n",
    "    total_users=('user_id', 'count')\n",
    ").reset_index()\n",
    "\n",
    "interest_distribution = interest_distribution.merge(total_users_group, on='group', suffixes=('', '_group'))"
   ]
  },
  {
   "cell_type": "markdown",
   "metadata": {
    "id": "pnZoiYA_JWe6"
   },
   "source": [
    "3) Расчет доли пользователей, интересующихся каждым регионом."
   ]
  },
  {
   "cell_type": "code",
   "execution_count": 50,
   "metadata": {
    "colab": {
     "base_uri": "https://localhost:8080/",
     "height": 0
    },
    "id": "x3AnJjrtJZ6X",
    "outputId": "d5084eca-dfc8-481e-db67-52c7ca5d8bbb"
   },
   "outputs": [
    {
     "data": {
      "text/html": [
       "<div>\n",
       "<style scoped>\n",
       "    .dataframe tbody tr th:only-of-type {\n",
       "        vertical-align: middle;\n",
       "    }\n",
       "\n",
       "    .dataframe tbody tr th {\n",
       "        vertical-align: top;\n",
       "    }\n",
       "\n",
       "    .dataframe thead th {\n",
       "        text-align: right;\n",
       "    }\n",
       "</style>\n",
       "<table border=\"1\" class=\"dataframe\">\n",
       "  <thead>\n",
       "    <tr style=\"text-align: right;\">\n",
       "      <th></th>\n",
       "      <th>group</th>\n",
       "      <th>district</th>\n",
       "      <th>total_users</th>\n",
       "      <th>total_users_group</th>\n",
       "      <th>interest_share</th>\n",
       "    </tr>\n",
       "  </thead>\n",
       "  <tbody>\n",
       "    <tr>\n",
       "      <th>0</th>\n",
       "      <td>control</td>\n",
       "      <td>Дальневосточный федеральный округ</td>\n",
       "      <td>1999</td>\n",
       "      <td>199872</td>\n",
       "      <td>0.010001</td>\n",
       "    </tr>\n",
       "    <tr>\n",
       "      <th>1</th>\n",
       "      <td>control</td>\n",
       "      <td>Приволжский федеральный округ</td>\n",
       "      <td>23985</td>\n",
       "      <td>199872</td>\n",
       "      <td>0.120002</td>\n",
       "    </tr>\n",
       "    <tr>\n",
       "      <th>2</th>\n",
       "      <td>control</td>\n",
       "      <td>Северо-Западный федеральный округ</td>\n",
       "      <td>39974</td>\n",
       "      <td>199872</td>\n",
       "      <td>0.199998</td>\n",
       "    </tr>\n",
       "    <tr>\n",
       "      <th>3</th>\n",
       "      <td>control</td>\n",
       "      <td>Сибирский федеральный округ</td>\n",
       "      <td>7994</td>\n",
       "      <td>199872</td>\n",
       "      <td>0.039996</td>\n",
       "    </tr>\n",
       "    <tr>\n",
       "      <th>4</th>\n",
       "      <td>control</td>\n",
       "      <td>Уральский федеральный округ</td>\n",
       "      <td>5996</td>\n",
       "      <td>199872</td>\n",
       "      <td>0.029999</td>\n",
       "    </tr>\n",
       "    <tr>\n",
       "      <th>5</th>\n",
       "      <td>control</td>\n",
       "      <td>Центральный федеральный округ</td>\n",
       "      <td>79949</td>\n",
       "      <td>199872</td>\n",
       "      <td>0.400001</td>\n",
       "    </tr>\n",
       "    <tr>\n",
       "      <th>6</th>\n",
       "      <td>control</td>\n",
       "      <td>Южный федеральный округ</td>\n",
       "      <td>39975</td>\n",
       "      <td>199872</td>\n",
       "      <td>0.200003</td>\n",
       "    </tr>\n",
       "    <tr>\n",
       "      <th>7</th>\n",
       "      <td>test</td>\n",
       "      <td>Дальневосточный федеральный округ</td>\n",
       "      <td>6058</td>\n",
       "      <td>201935</td>\n",
       "      <td>0.030000</td>\n",
       "    </tr>\n",
       "    <tr>\n",
       "      <th>8</th>\n",
       "      <td>test</td>\n",
       "      <td>Приволжский федеральный округ</td>\n",
       "      <td>36348</td>\n",
       "      <td>201935</td>\n",
       "      <td>0.179999</td>\n",
       "    </tr>\n",
       "    <tr>\n",
       "      <th>9</th>\n",
       "      <td>test</td>\n",
       "      <td>Северо-Западный федеральный округ</td>\n",
       "      <td>10097</td>\n",
       "      <td>201935</td>\n",
       "      <td>0.050001</td>\n",
       "    </tr>\n",
       "    <tr>\n",
       "      <th>10</th>\n",
       "      <td>test</td>\n",
       "      <td>Сибирский федеральный округ</td>\n",
       "      <td>8078</td>\n",
       "      <td>201935</td>\n",
       "      <td>0.040003</td>\n",
       "    </tr>\n",
       "    <tr>\n",
       "      <th>11</th>\n",
       "      <td>test</td>\n",
       "      <td>Уральский федеральный округ</td>\n",
       "      <td>20193</td>\n",
       "      <td>201935</td>\n",
       "      <td>0.099998</td>\n",
       "    </tr>\n",
       "    <tr>\n",
       "      <th>12</th>\n",
       "      <td>test</td>\n",
       "      <td>Центральный федеральный округ</td>\n",
       "      <td>40387</td>\n",
       "      <td>201935</td>\n",
       "      <td>0.200000</td>\n",
       "    </tr>\n",
       "    <tr>\n",
       "      <th>13</th>\n",
       "      <td>test</td>\n",
       "      <td>Южный федеральный округ</td>\n",
       "      <td>80774</td>\n",
       "      <td>201935</td>\n",
       "      <td>0.400000</td>\n",
       "    </tr>\n",
       "  </tbody>\n",
       "</table>\n",
       "</div>"
      ],
      "text/plain": [
       "      group                           district  total_users  \\\n",
       "0   control  Дальневосточный федеральный округ         1999   \n",
       "1   control      Приволжский федеральный округ        23985   \n",
       "2   control  Северо-Западный федеральный округ        39974   \n",
       "3   control        Сибирский федеральный округ         7994   \n",
       "4   control        Уральский федеральный округ         5996   \n",
       "5   control      Центральный федеральный округ        79949   \n",
       "6   control            Южный федеральный округ        39975   \n",
       "7      test  Дальневосточный федеральный округ         6058   \n",
       "8      test      Приволжский федеральный округ        36348   \n",
       "9      test  Северо-Западный федеральный округ        10097   \n",
       "10     test        Сибирский федеральный округ         8078   \n",
       "11     test        Уральский федеральный округ        20193   \n",
       "12     test      Центральный федеральный округ        40387   \n",
       "13     test            Южный федеральный округ        80774   \n",
       "\n",
       "    total_users_group  interest_share  \n",
       "0              199872        0.010001  \n",
       "1              199872        0.120002  \n",
       "2              199872        0.199998  \n",
       "3              199872        0.039996  \n",
       "4              199872        0.029999  \n",
       "5              199872        0.400001  \n",
       "6              199872        0.200003  \n",
       "7              201935        0.030000  \n",
       "8              201935        0.179999  \n",
       "9              201935        0.050001  \n",
       "10             201935        0.040003  \n",
       "11             201935        0.099998  \n",
       "12             201935        0.200000  \n",
       "13             201935        0.400000  "
      ]
     },
     "execution_count": 50,
     "metadata": {},
     "output_type": "execute_result"
    }
   ],
   "source": [
    "interest_distribution['interest_share'] = interest_distribution['total_users'] / interest_distribution['total_users_group']\n",
    "interest_distribution"
   ]
  },
  {
   "cell_type": "markdown",
   "metadata": {
    "id": "wWUccPkmJotp"
   },
   "source": [
    "4) Преобразование таблицы в более читаемый вид."
   ]
  },
  {
   "cell_type": "code",
   "execution_count": 51,
   "metadata": {
    "colab": {
     "base_uri": "https://localhost:8080/",
     "height": 0
    },
    "id": "U9RDLEyaIkV9",
    "outputId": "85074db2-d67b-4c6f-a065-789a8ec48fae"
   },
   "outputs": [
    {
     "data": {
      "text/html": [
       "<div>\n",
       "<style scoped>\n",
       "    .dataframe tbody tr th:only-of-type {\n",
       "        vertical-align: middle;\n",
       "    }\n",
       "\n",
       "    .dataframe tbody tr th {\n",
       "        vertical-align: top;\n",
       "    }\n",
       "\n",
       "    .dataframe thead th {\n",
       "        text-align: right;\n",
       "    }\n",
       "</style>\n",
       "<table border=\"1\" class=\"dataframe\">\n",
       "  <thead>\n",
       "    <tr style=\"text-align: right;\">\n",
       "      <th>group</th>\n",
       "      <th>district</th>\n",
       "      <th>control</th>\n",
       "      <th>test</th>\n",
       "    </tr>\n",
       "  </thead>\n",
       "  <tbody>\n",
       "    <tr>\n",
       "      <th>0</th>\n",
       "      <td>Дальневосточный федеральный округ</td>\n",
       "      <td>0.010001</td>\n",
       "      <td>0.030000</td>\n",
       "    </tr>\n",
       "    <tr>\n",
       "      <th>1</th>\n",
       "      <td>Приволжский федеральный округ</td>\n",
       "      <td>0.120002</td>\n",
       "      <td>0.179999</td>\n",
       "    </tr>\n",
       "    <tr>\n",
       "      <th>2</th>\n",
       "      <td>Северо-Западный федеральный округ</td>\n",
       "      <td>0.199998</td>\n",
       "      <td>0.050001</td>\n",
       "    </tr>\n",
       "    <tr>\n",
       "      <th>3</th>\n",
       "      <td>Сибирский федеральный округ</td>\n",
       "      <td>0.039996</td>\n",
       "      <td>0.040003</td>\n",
       "    </tr>\n",
       "    <tr>\n",
       "      <th>4</th>\n",
       "      <td>Уральский федеральный округ</td>\n",
       "      <td>0.029999</td>\n",
       "      <td>0.099998</td>\n",
       "    </tr>\n",
       "    <tr>\n",
       "      <th>5</th>\n",
       "      <td>Центральный федеральный округ</td>\n",
       "      <td>0.400001</td>\n",
       "      <td>0.200000</td>\n",
       "    </tr>\n",
       "    <tr>\n",
       "      <th>6</th>\n",
       "      <td>Южный федеральный округ</td>\n",
       "      <td>0.200003</td>\n",
       "      <td>0.400000</td>\n",
       "    </tr>\n",
       "  </tbody>\n",
       "</table>\n",
       "</div>"
      ],
      "text/plain": [
       "group                           district   control      test\n",
       "0      Дальневосточный федеральный округ  0.010001  0.030000\n",
       "1          Приволжский федеральный округ  0.120002  0.179999\n",
       "2      Северо-Западный федеральный округ  0.199998  0.050001\n",
       "3            Сибирский федеральный округ  0.039996  0.040003\n",
       "4            Уральский федеральный округ  0.029999  0.099998\n",
       "5          Центральный федеральный округ  0.400001  0.200000\n",
       "6                Южный федеральный округ  0.200003  0.400000"
      ]
     },
     "execution_count": 51,
     "metadata": {},
     "output_type": "execute_result"
    }
   ],
   "source": [
    "interest_distribution_pivot = interest_distribution.pivot(index='district', columns='group', values='interest_share').reset_index()\n",
    "interest_distribution_pivot"
   ]
  },
  {
   "cell_type": "markdown",
   "metadata": {
    "id": "wUK94GpwI2Ue"
   },
   "source": [
    "**Вывод**: Предпочтения изменились. В контрольной группе пользователи больше интересовались 1) Центральным, 2) Северо-Западным и 3) Южным федеральными округами. В тестовой же группе Топ 3 ФО по интересу пользователей заняли: 1) Южный, 2) Центральный и 3) Приволжский федеральные округа."
   ]
  },
  {
   "cell_type": "markdown",
   "metadata": {
    "id": "NIDyke9Sy6Bx"
   },
   "source": [
    "Если вы все сделали правильно, то у вас получился противоречивые ответы в пунктах 3 и 4. Вы попали в ловушку Парадокса Симпсона. Подробнее о нем можно почитать [здесь](https://ru.wikipedia.org/wiki/Парадокс_Симпсона)\n",
    "\n",
    "<img src=\"https://github.com/hse-econ-data-science/andan_2023/blob/main/hw/hw04/images/simpson.jpg?raw=true\" width=\"350\" align='center'>"
   ]
  },
  {
   "cell_type": "markdown",
   "metadata": {
    "id": "UpJRpb4jy6Bx"
   },
   "source": [
    "__е) [4 балла]__ Теперь, когда вы все узнали, опишите кратко почему вы получили противоречивый результат в пунктах 3 и 4 (1 балл)"
   ]
  },
  {
   "cell_type": "markdown",
   "metadata": {
    "id": "q8qnta9My6Bx"
   },
   "source": [
    "**Ваш ответ:** Причина парадокса заключается в некорректном усреднении двух групп данных с различной долей контрольных наблюдений. Вышло так, что заинтересованных в покупке пользователей меньше, чем пользователей, которые купили тур."
   ]
  },
  {
   "cell_type": "markdown",
   "metadata": {
    "id": "AdbGYTu5y6Bx"
   },
   "source": [
    "## Задача №4: Не подглядывать! (40 баллов)\n",
    "\n",
    "<img src=\"https://github.com/hse-econ-data-science/andan_2023/blob/main/hw/hw04/images/trump.png?raw=true\" width=\"500\" align='left'>"
   ]
  },
  {
   "cell_type": "markdown",
   "metadata": {
    "id": "K_ofsIXgy6Bx"
   },
   "source": [
    "На американских выборах 2020 года в некоторых штатах проходила очень конкурентная борьба между кандидатами. По мере подсчета голосов перевес в голосах склонялся то в пользу демократов, то в пользу республиканцев. И вот, в один из таких моментов, когда чаша весов склонилась в пользу республиканцев, Д. Трамп написал в твиттер \"stop the count!\", что означало призыв к остановке подсчета голосов.\n",
    "\n",
    "_Здесь у вас мог возникнуть вопрос, и зачем нам это?_\n",
    "\n",
    "Ответ очень прост. В этой ситуации всем очевидно, что призыв Трампа не мог быть осуществлен, то есть прерывать подсчет голосов раньше времени кажется довольно глупым способом выявления победителя. И вот абсолютно такой же способ принятия решения есть и в А/Б-тестах, только теперь многим аналитикам он уже кажется не столь очевидным, что приводит к существенным ошибкам в заключении выводов.\n",
    "\n",
    "_Решив эту задачу, мы познакомимся с такой проблемой подробнее и поймем, как не стоит делать, когда вы запускаете А/Б-тест._"
   ]
  },
  {
   "cell_type": "markdown",
   "metadata": {
    "id": "5Q2xbcw3y6Bx"
   },
   "source": [
    "Чтобы понять, в чем же именно заключается проблема, мы с вами будем проводить симуляции А/Б-тестов. Это когда мы генерируем данные уже со знаниями, как эти данные устроены. А затем, запуская процедуру проверки гипотез над такими симулированными данными, мы будем оценивать, что происходит на практике (при запуске А/Б-теста).\n",
    "\n",
    "На практике же всегда неизвестно, как устроены данные, и проводя А/Б-тест мы пытаемся зафиксировать различия. Еще раз, здесь же мы будем знать об устройстве данных, а затем будем смотреть на поведение А/Б-теста, то есть как будто бы смотреть на тест с обратной стороны.\n",
    "\n",
    "_Перед тем как идти дальше, остановитесь здесь и еще раз зафиксируйте это!_"
   ]
  },
  {
   "cell_type": "markdown",
   "metadata": {
    "id": "c5DAy8xly6Bx"
   },
   "source": [
    "__а) [10 баллов]  Подсчет размера выборки для А/Б-теста__\n",
    "\n",
    "Предположим, что вы хотите провести А/Б-тест внутри вашего приложения. Вы выбрали некоторую метрику $X$ – случайную величину из нормального распределения с мат. ожиданием $100$ у.е. и стандартным отклонением $40$ у.е – это ваш бейзлайн (группа А). Рассчитайте, сколько дней вам нужно крутить такой А/Б-тест, если:\n",
    "\n",
    "1. Вы ожидаете получить минимальный размер эффекта в $5$ у.е.;\n",
    "2. Вы хотите зафиксировать ошибку первого рода на уровне $\\alpha=5\\%$, а ошибку второго рода на уровне $\\beta=20\\%$;\n",
    "3. Вы точно знаете, что в группе Б стандартное отклонение метрики составляет также $20$ у.е.\n",
    "4. Посещаемость вашего приложения ежедневно составляет $200$ пользователей, и вы готовы раскатить тест на $100\\%$ трафика.\n",
    "\n",
    "Формула для расчета числа наблюдений _для одной группы_:\n",
    "\n",
    "$$\n",
    "n_{\\text{one group}} = \\frac{(\\sigma_A^2 + \\sigma_B^2) \\cdot (z_{1-\\frac{\\alpha}{2}} + z_{1-\\beta})^2}{MDE^2},\n",
    "$$\n",
    "\n",
    "__Подсказка:__ Помните, что после получения общего числа наблюдений вам нужно выразить это в дни! Вы должны получить целое число. Также будьте аккуратны с подсчетом трафика и кол-ва наблюдений – обратите внимание, со скольким числом групп вы работаете!"
   ]
  },
  {
   "cell_type": "code",
   "execution_count": 52,
   "metadata": {
    "id": "Hvi0ltdU1xLy"
   },
   "outputs": [],
   "source": [
    "from scipy.stats import norm"
   ]
  },
  {
   "cell_type": "markdown",
   "metadata": {
    "id": "lacqrZfh13nW"
   },
   "source": [
    "1) Параметры."
   ]
  },
  {
   "cell_type": "code",
   "execution_count": 53,
   "metadata": {
    "id": "LmAMnu_T10S9"
   },
   "outputs": [],
   "source": [
    "e_a = 100\n",
    "sigma_A = 40\n",
    "sigma_B = 20\n",
    "MDE = 5\n",
    "a = 0.05\n",
    "b = 0.2\n",
    "daily_traffic = 200"
   ]
  },
  {
   "cell_type": "markdown",
   "metadata": {
    "id": "QR0Mh-US2IVK"
   },
   "source": [
    "2) Z-значения для уровней значимости и мощности."
   ]
  },
  {
   "cell_type": "code",
   "execution_count": 54,
   "metadata": {
    "colab": {
     "base_uri": "https://localhost:8080/"
    },
    "id": "cMfPMabg2LSA",
    "outputId": "8905ee03-f061-4c15-f2fe-c1e6a0266771"
   },
   "outputs": [
    {
     "name": "stdout",
     "output_type": "stream",
     "text": [
      "z_alpha =  1.959963984540054\n",
      "z_beta =  0.8416212335729143\n"
     ]
    }
   ],
   "source": [
    "z_alpha = norm.ppf(1 - a / 2)\n",
    "z_beta = norm.ppf(1 - b)\n",
    "print('z_alpha = ', z_alpha)\n",
    "print('z_beta = ', z_beta)"
   ]
  },
  {
   "cell_type": "markdown",
   "metadata": {
    "id": "jzJy1GY32RXw"
   },
   "source": [
    "3) Подсчёт числа наблюдений для одной группы и общего кол-ва наблюдений."
   ]
  },
  {
   "cell_type": "code",
   "execution_count": 55,
   "metadata": {
    "colab": {
     "base_uri": "https://localhost:8080/"
    },
    "id": "ypG4bB0Sy6By",
    "outputId": "6586a848-c2cc-4271-f34b-788b98bfffa1"
   },
   "outputs": [
    {
     "name": "stdout",
     "output_type": "stream",
     "text": [
      "Число наблюдений для 1 группы =  627.9103787479271\n",
      "Общее кол-во наблюдений =  1255.8207574958542\n"
     ]
    }
   ],
   "source": [
    "n_one_group = ((sigma_A ** 2 + sigma_B ** 2) * (z_alpha + z_beta) ** 2) / MDE ** 2\n",
    "n_total = 2 * n_one_group\n",
    "print('Число наблюдений для 1 группы = ', n_one_group)\n",
    "print('Общее кол-во наблюдений = ', n_total)"
   ]
  },
  {
   "cell_type": "markdown",
   "metadata": {
    "id": "t7mQaGYK2X-h"
   },
   "source": [
    "4)Количество дней для проведения."
   ]
  },
  {
   "cell_type": "code",
   "execution_count": 56,
   "metadata": {
    "colab": {
     "base_uri": "https://localhost:8080/"
    },
    "id": "AXDW8gaD2h10",
    "outputId": "282872d3-ebdb-4d3c-d106-29220b2e3e23"
   },
   "outputs": [
    {
     "name": "stdout",
     "output_type": "stream",
     "text": [
      "Количество дней для проведения =  7.0\n"
     ]
    }
   ],
   "source": [
    "test_days = np.ceil(n_total / daily_traffic)\n",
    "print('Количество дней для проведения = ', test_days)"
   ]
  },
  {
   "cell_type": "markdown",
   "metadata": {
    "id": "5vEHDpc6y6By"
   },
   "source": [
    "__б) [20 баллов] Симуляция А/Б-теста__\n",
    "\n",
    "Теперь нам нужно запустить А/Б-тест. Для этого:"
   ]
  },
  {
   "cell_type": "markdown",
   "metadata": {
    "id": "oPTpdao5y6By"
   },
   "source": [
    "1. Сгенерируйте выборку данных из нормального распределения для группы А и Б в конкретный один день. Считайте, что в группе Б математическое ожидание составляет $105$ у.е., то есть с учетом размера вашего минимального ожидаемого эффекта из предыдущего пункта."
   ]
  },
  {
   "cell_type": "markdown",
   "metadata": {
    "id": "enEhqZ5122CI"
   },
   "source": [
    "1) Параметры."
   ]
  },
  {
   "cell_type": "code",
   "execution_count": 57,
   "metadata": {
    "id": "vMeBT6AD23n2"
   },
   "outputs": [],
   "source": [
    "e_b = 105\n",
    "sample_size = 1400"
   ]
  },
  {
   "cell_type": "markdown",
   "metadata": {
    "id": "ipRbGA4l2-Hg"
   },
   "source": [
    "2) Генерация выборок для групп А и Б."
   ]
  },
  {
   "cell_type": "code",
   "execution_count": 58,
   "metadata": {
    "id": "bVxD1JnY3BBC"
   },
   "outputs": [],
   "source": [
    "np.random.seed(42)\n",
    "sample_A = np.random.normal(e_a, sigma_A, sample_size)\n",
    "sample_B = np.random.normal(e_b, sigma_B, sample_size)"
   ]
  },
  {
   "cell_type": "markdown",
   "metadata": {
    "id": "arDVFtXwy6By"
   },
   "source": [
    "2. Теперь представим, что наш тест был запущен $X$ дней. Напишите функцию, которая за этот период теста собирает в `DataFrame` следующие данные на каждый день теста:\n",
    "    1. среднее метрики в группе А\n",
    "    2. среднее метрики в группе Б\n",
    "    3. p-value, посчитанное с помощью t-test – можно воспользоваться встроенной функцией `scipy.stats.ttest_ind`\n",
    "    \n",
    "    Соберите `DataFrame` для $X=50$.\n",
    "    \n",
    "__Подсказка:__ Среднее для 1-го дня должно считаться по пользователям, пришедших в первый день, для второго дня – по пользователям, пришедшим в первый и второй день и т.д. То есть накопленным итогом за каждый день теста."
   ]
  },
  {
   "cell_type": "code",
   "execution_count": 59,
   "metadata": {
    "id": "BRBxGTbo0fNr"
   },
   "outputs": [],
   "source": [
    "from scipy.stats import ttest_ind\n",
    "def ab_test_simulation(days, sample_A, sample_B):\n",
    "    df = pd.DataFrame(columns=['Day', 'Mean_A', 'Mean_B', 'P_value'])\n",
    "    for day in range(1, days + 1):\n",
    "        sample_A_day = sample_A[:day * daily_traffic]\n",
    "        sample_B_day = sample_B[:day * daily_traffic]\n",
    "        m_A = np.mean(sample_A_day)\n",
    "        m_B = np.mean(sample_B_day)\n",
    "        _, p_value = ttest_ind(sample_A_day, sample_B_day, equal_var=False)\n",
    "        df.loc[day] = [day, m_A, m_B, p_value]\n",
    "    return df\n",
    "\n",
    "X = 50\n",
    "sample_size = 50 * 200\n",
    "sample_A = np.random.normal(e_a, sigma_A, sample_size)\n",
    "sample_B = np.random.normal(e_b, sigma_B, sample_size)\n",
    "ab_test_df = ab_test_simulation(X, sample_A, sample_B)"
   ]
  },
  {
   "cell_type": "markdown",
   "metadata": {
    "id": "wLUZlqWEy6Bz"
   },
   "source": [
    "3. На основе `DataFrame` из предыдущего пункта постройте график динамики среднего в группе А и в группе Б по дням теста. Отложите вертикальную линию на этом же графике, показывающую кол-во дней, посчитанных в пункте 1. Сделайте эту линию пунктирной и измените цвет, который вам больше нравится."
   ]
  },
  {
   "cell_type": "code",
   "execution_count": 60,
   "metadata": {
    "colab": {
     "base_uri": "https://localhost:8080/",
     "height": 564
    },
    "id": "DgcxKH2oy6Bz",
    "outputId": "cc526781-5725-4ccb-c8e4-fe6d8d774fca"
   },
   "outputs": [
    {
     "data": {
      "image/png": "[encoded data removed]",
      "text/plain": [
       "<Figure size 1000x600 with 1 Axes>"
      ]
     },
     "metadata": {},
     "output_type": "display_data"
    }
   ],
   "source": [
    "plt.figure(figsize=(10, 6))\n",
    "plt.plot(ab_test_df['Day'], ab_test_df['Mean_A'], label='Группа A', color='blue')\n",
    "plt.plot(ab_test_df['Day'], ab_test_df['Mean_B'], label='Группа B', color='red')\n",
    "plt.xlabel('День')\n",
    "plt.ylabel('Среднее значение')\n",
    "plt.title('Динамика среднего значения метрики в группе A и B')\n",
    "plt.axvline(x=50, linestyle='--', color='green', label='Кол-во дней = 50')\n",
    "plt.legend()\n",
    "plt.grid(True)\n",
    "plt.show()"
   ]
  },
  {
   "cell_type": "markdown",
   "metadata": {
    "id": "9g69dGEXy6Bz"
   },
   "source": [
    "4. На основе `DataFrame` из предыдущего пункта постройте график динамики p-value по дням теста. Отложите вертикальную линию на этом же графике, показывающую кол-во дней, посчитанных в пункте 1. Сделайте эту линию пунктирной и измените цвет, который вам больше нравится. Также отложите горизонтальную линию – ваш уровень значимости $\\alpha$."
   ]
  },
  {
   "cell_type": "code",
   "execution_count": 61,
   "metadata": {
    "colab": {
     "base_uri": "https://localhost:8080/",
     "height": 564
    },
    "id": "Ku_2ltBOy6Bz",
    "outputId": "21dfc8ad-ecba-4e8b-f0a8-f9652705e825"
   },
   "outputs": [
    {
     "data": {
      "image/png": "[encoded data removed]",
      "text/plain": [
       "<Figure size 1000x600 with 1 Axes>"
      ]
     },
     "metadata": {},
     "output_type": "display_data"
    }
   ],
   "source": [
    "plt.figure(figsize=(10, 6))\n",
    "plt.plot(ab_test_df['Day'], ab_test_df['P_value'], color='purple')\n",
    "plt.xlabel('День')\n",
    "plt.ylabel('p-value')\n",
    "plt.title('Динамика p-value по дням теста')\n",
    "plt.axvline(x=X, linestyle='--', color='green', label='Кол-во дней = 50')\n",
    "plt.axhline(y=a, linestyle='--', color='red', label='Уровень значимости α = 0.05')\n",
    "plt.legend()\n",
    "plt.grid(True)\n",
    "plt.show()"
   ]
  },
  {
   "cell_type": "markdown",
   "metadata": {
    "id": "q3h3Q2umy6Bz"
   },
   "source": [
    "5. Перегенируруйте шаги 2-4 несколько раз, посмотрев на графики. Что вы видите? Что происходит с p-value в периодах:\n",
    "    1. до кол-ва дней, посчитанных по формуле из п.1\n",
    "    2. в точке кол-ва дней, посчитанных по формуле из п.1\n",
    "    3. после кол-ва дней, посчитанных по формуле из п.1\n",
    "    \n",
    "    Опишите выводы максимально подробно."
   ]
  },
  {
   "cell_type": "markdown",
   "metadata": {
    "id": "nSQXmJ40336Y"
   },
   "source": [
    "**Вывод**: С каждой новой генерацией график становится интереснее. До 7 дней (кол-во дней, посчитанных по формуле из п.1) значения p-value значительно выделяются, они больше. В точке 7 дней значение p-value становится равным 0 и продолжает быть равным 0 после 7го дня."
   ]
  },
  {
   "cell_type": "markdown",
   "metadata": {
    "id": "F-T1Ggl_y6Bz"
   },
   "source": [
    "6. Теперь предположим, что мы поменяли наш $MDE$ до $1$ у.е. То есть мат. ожидание в группе А осталось по-прежнему $100$, а вот в группе Б теперь $101$. Перегенерируйте пункты 2-4 для измененного $MDE$, при этом кол-во дней в п.1 не пересчитывайте. Что происходит с p-value? Сделайте выводы."
   ]
  },
  {
   "cell_type": "code",
   "execution_count": 62,
   "metadata": {
    "id": "fgabBqoXy6Bz"
   },
   "outputs": [],
   "source": [
    "e_B_new = 101\n",
    "MDE_new = 1\n",
    "\n",
    "sample_B_new = np.random.normal(e_B_new, sigma_B, sample_size)\n",
    "ab_test_df_new = ab_test_simulation(X, sample_A, sample_B_new)"
   ]
  },
  {
   "cell_type": "code",
   "execution_count": 63,
   "metadata": {
    "colab": {
     "base_uri": "https://localhost:8080/",
     "height": 564
    },
    "id": "4PrQ4KYX09VR",
    "outputId": "3f16dcde-be12-476c-a1a1-bedd0e868e9b"
   },
   "outputs": [
    {
     "data": {
      "image/png": "[encoded data removed]",
      "text/plain": [
       "<Figure size 1000x600 with 1 Axes>"
      ]
     },
     "metadata": {},
     "output_type": "display_data"
    }
   ],
   "source": [
    "plt.figure(figsize=(10, 6))\n",
    "plt.plot(ab_test_df_new['Day'], ab_test_df_new['P_value'], color='purple')\n",
    "plt.xlabel('День')\n",
    "plt.ylabel('p-value')\n",
    "plt.title('Динамика p-value по дням теста (новый MDE)')\n",
    "plt.axvline(x=50, linestyle='--', color='green', label='Кол-во дней = 50')\n",
    "plt.axhline(y=a, linestyle='--', color='red', label='Уровень значимости α = 0.05')\n",
    "plt.legend()\n",
    "plt.grid(True)\n",
    "plt.show()\n"
   ]
  },
  {
   "cell_type": "markdown",
   "metadata": {
    "id": "jnRsgc26zX8L"
   },
   "source": [
    "**Вывод**: Значения p-value с каждым днём колеблятся и стремятся к 0, разница в 1 и последний день измерений колоссальна."
   ]
  },
  {
   "cell_type": "markdown",
   "metadata": {
    "id": "mgrbu589y6B0"
   },
   "source": [
    "__в) [10 баллов] Симуляция А/А-теста__\n",
    "\n",
    "Теперь представим, что изменений на самом деле никаких нету, то есть мат. ожидание в обоих группах $100$, а $MDE = 0$"
   ]
  },
  {
   "cell_type": "markdown",
   "metadata": {
    "id": "t4wFH1kLy6B0"
   },
   "source": [
    "1. И снова перегенерируйте вышесделанные пункты 2-4. Что происходит с p-value? Может ли оно оказаться ниже уровня значимости?"
   ]
  },
  {
   "cell_type": "code",
   "execution_count": 64,
   "metadata": {
    "id": "KHZlafo8y6B0"
   },
   "outputs": [],
   "source": [
    "e = 100\n",
    "sigma_C = 20\n",
    "\n",
    "sample_C = np.random.normal(e, sigma_C, sample_size)\n",
    "ab_test_df_C = ab_test_simulation(X, sample_C, sample_C)"
   ]
  },
  {
   "cell_type": "markdown",
   "metadata": {
    "id": "RkkSd0Pcy6B0"
   },
   "source": [
    "2. Ну и напоследок, напишите функцию, которая генерирует p-value на последний день A/A теста. А затем запустите эту функцию $1000$ раз, собрав $1000$ значений p-value. Постройте гистограмму их распределения. Что вы видите?\n",
    "\n",
    "__Подсказка:__ Для такой функции достаточно создать выборку один раз, изменив ее размер."
   ]
  },
  {
   "cell_type": "code",
   "execution_count": 65,
   "metadata": {
    "colab": {
     "base_uri": "https://localhost:8080/",
     "height": 564
    },
    "id": "xXAuDJ-Fy6B0",
    "outputId": "8e6076e8-521a-4ea1-e15a-8d4a9306997c"
   },
   "outputs": [
    {
     "data": {
      "image/png": "[encoded data removed]",
      "text/plain": [
       "<Figure size 800x600 with 1 Axes>"
      ]
     },
     "metadata": {},
     "output_type": "display_data"
    }
   ],
   "source": [
    "def p_value_simulation_C():\n",
    "    sample_C = np.random.normal(e, sigma_C, sample_size)\n",
    "\n",
    "    sample_A_last_day = sample_C[-daily_traffic:]\n",
    "    sample_B_last_day = sample_C[-daily_traffic:]\n",
    "    _, p_value = ttest_ind(sample_A_last_day, sample_B_last_day)\n",
    "\n",
    "    return p_value\n",
    "\n",
    "p_values_C = [p_value_simulation_C() for _ in range(1000)]\n",
    "\n",
    "plt.figure(figsize=(8, 6))\n",
    "plt.hist(p_values_C, bins=30, color='skyblue', edgecolor='black', alpha=0.7)\n",
    "plt.xlabel('p-value')\n",
    "plt.ylabel('Частота')\n",
    "plt.title('Распределение p-значений в тесте A/A')\n",
    "plt.grid(True)\n",
    "plt.show()\n"
   ]
  }
 ],
 "metadata": {
  "colab": {
   "provenance": []
  },
  "kernelspec": {
   "display_name": "Python 3 (ipykernel)",
   "language": "python",
   "name": "python3"
  },
  "language_info": {
   "codemirror_mode": {
    "name": "ipython",
    "version": 3
   },
   "file_extension": ".py",
   "mimetype": "text/x-python",
   "name": "python",
   "nbconvert_exporter": "python",
   "pygments_lexer": "ipython3",
   "version": "3.10.9"
  }
 },
 "nbformat": 4,
 "nbformat_minor": 1
}
