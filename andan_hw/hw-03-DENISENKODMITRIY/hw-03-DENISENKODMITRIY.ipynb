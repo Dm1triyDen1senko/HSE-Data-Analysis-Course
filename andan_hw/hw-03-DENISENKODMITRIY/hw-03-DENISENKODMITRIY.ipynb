{
 "cells": [
  {
   "cell_type": "markdown",
   "metadata": {
    "id": "OUkbd1KEPBOK"
   },
   "source": [
    "<center>\n",
    "<img src=\"https://avatars.mds.yandex.net/i?id=08831819d2b500822a90327ea7aee923ef8a5322-9154878-images-thumbs&n=13\" height=\"250\">\n",
    "\n",
    "# Андан на экономе: домашнее задание 3\n",
    "</center>\n",
    "\n",
    "\n",
    "> Bicycle bicycle bicycle  <br> I want to ride my bicycle <br> I want to ride my bike <br> I want to ride my bicycle <br>  I want to ride it where I like\n",
    "\n",
    "$\\qquad$ $\\qquad$ $\\qquad$ $\\qquad$  **[Bicycle Race (Queen)](https://www.youtube.com/watch?v=r2lT4oE4DxE)**"
   ]
  },
  {
   "cell_type": "markdown",
   "metadata": {
    "id": "wT1e3ba_PBON"
   },
   "source": [
    "**ФИО:**\n",
    "\n",
    "**Твой любимый аник:**"
   ]
  },
  {
   "cell_type": "markdown",
   "metadata": {
    "id": "ftkk3tCQPBOP"
   },
   "source": [
    "## Формат сдачи\n",
    "\n",
    "Сам ноутбук называйте в формате hw-02-USERNAME.ipynb, где USERNAME — ваши фамилия и имя на латинице. Задание сдаётся в anytask."
   ]
  },
  {
   "cell_type": "code",
   "execution_count": 3,
   "metadata": {
    "id": "2UD6szdEPBOQ"
   },
   "outputs": [],
   "source": [
    "import numpy as np\n",
    "import pandas as pd\n",
    "\n",
    "import scipy.stats as sts\n",
    "import matplotlib.pyplot as plt\n",
    "import seaborn as sns"
   ]
  },
  {
   "cell_type": "markdown",
   "metadata": {
    "id": "0qTR4DwTPBOR"
   },
   "source": [
    "# Спрос на велосипеды\n",
    "\n",
    "В этой домашке мы будем работать с данными о спросе на велосипеды. Мы научимся его предсказывать."
   ]
  },
  {
   "cell_type": "code",
   "execution_count": 4,
   "metadata": {
    "colab": {
     "base_uri": "https://localhost:8080/",
     "height": 223
    },
    "id": "kAzmJPsSPBOR",
    "outputId": "9aed1da3-a381-4d99-943d-9a3e5012d441",
    "scrolled": true
   },
   "outputs": [
    {
     "ename": "FileNotFoundError",
     "evalue": "[Errno 2] No such file or directory: 'bikes_rent.csv'",
     "output_type": "error",
     "traceback": [
      "\u001b[0;31m---------------------------------------------------------------------------\u001b[0m",
      "\u001b[0;31mFileNotFoundError\u001b[0m                         Traceback (most recent call last)",
      "Cell \u001b[0;32mIn[4], line 1\u001b[0m\n\u001b[0;32m----> 1\u001b[0m df \u001b[38;5;241m=\u001b[39m \u001b[43mpd\u001b[49m\u001b[38;5;241;43m.\u001b[39;49m\u001b[43mread_csv\u001b[49m\u001b[43m(\u001b[49m\u001b[38;5;124;43m'\u001b[39;49m\u001b[38;5;124;43mbikes_rent.csv\u001b[39;49m\u001b[38;5;124;43m'\u001b[39;49m\u001b[43m)\u001b[49m\n\u001b[1;32m      2\u001b[0m \u001b[38;5;28mprint\u001b[39m(df\u001b[38;5;241m.\u001b[39mshape)\n\u001b[1;32m      3\u001b[0m df\u001b[38;5;241m.\u001b[39mhead( )\n",
      "File \u001b[0;32m~/anaconda3/lib/python3.10/site-packages/pandas/util/_decorators.py:211\u001b[0m, in \u001b[0;36mdeprecate_kwarg.<locals>._deprecate_kwarg.<locals>.wrapper\u001b[0;34m(*args, **kwargs)\u001b[0m\n\u001b[1;32m    209\u001b[0m     \u001b[38;5;28;01melse\u001b[39;00m:\n\u001b[1;32m    210\u001b[0m         kwargs[new_arg_name] \u001b[38;5;241m=\u001b[39m new_arg_value\n\u001b[0;32m--> 211\u001b[0m \u001b[38;5;28;01mreturn\u001b[39;00m \u001b[43mfunc\u001b[49m\u001b[43m(\u001b[49m\u001b[38;5;241;43m*\u001b[39;49m\u001b[43margs\u001b[49m\u001b[43m,\u001b[49m\u001b[43m \u001b[49m\u001b[38;5;241;43m*\u001b[39;49m\u001b[38;5;241;43m*\u001b[39;49m\u001b[43mkwargs\u001b[49m\u001b[43m)\u001b[49m\n",
      "File \u001b[0;32m~/anaconda3/lib/python3.10/site-packages/pandas/util/_decorators.py:331\u001b[0m, in \u001b[0;36mdeprecate_nonkeyword_arguments.<locals>.decorate.<locals>.wrapper\u001b[0;34m(*args, **kwargs)\u001b[0m\n\u001b[1;32m    325\u001b[0m \u001b[38;5;28;01mif\u001b[39;00m \u001b[38;5;28mlen\u001b[39m(args) \u001b[38;5;241m>\u001b[39m num_allow_args:\n\u001b[1;32m    326\u001b[0m     warnings\u001b[38;5;241m.\u001b[39mwarn(\n\u001b[1;32m    327\u001b[0m         msg\u001b[38;5;241m.\u001b[39mformat(arguments\u001b[38;5;241m=\u001b[39m_format_argument_list(allow_args)),\n\u001b[1;32m    328\u001b[0m         \u001b[38;5;167;01mFutureWarning\u001b[39;00m,\n\u001b[1;32m    329\u001b[0m         stacklevel\u001b[38;5;241m=\u001b[39mfind_stack_level(),\n\u001b[1;32m    330\u001b[0m     )\n\u001b[0;32m--> 331\u001b[0m \u001b[38;5;28;01mreturn\u001b[39;00m \u001b[43mfunc\u001b[49m\u001b[43m(\u001b[49m\u001b[38;5;241;43m*\u001b[39;49m\u001b[43margs\u001b[49m\u001b[43m,\u001b[49m\u001b[43m \u001b[49m\u001b[38;5;241;43m*\u001b[39;49m\u001b[38;5;241;43m*\u001b[39;49m\u001b[43mkwargs\u001b[49m\u001b[43m)\u001b[49m\n",
      "File \u001b[0;32m~/anaconda3/lib/python3.10/site-packages/pandas/io/parsers/readers.py:950\u001b[0m, in \u001b[0;36mread_csv\u001b[0;34m(filepath_or_buffer, sep, delimiter, header, names, index_col, usecols, squeeze, prefix, mangle_dupe_cols, dtype, engine, converters, true_values, false_values, skipinitialspace, skiprows, skipfooter, nrows, na_values, keep_default_na, na_filter, verbose, skip_blank_lines, parse_dates, infer_datetime_format, keep_date_col, date_parser, dayfirst, cache_dates, iterator, chunksize, compression, thousands, decimal, lineterminator, quotechar, quoting, doublequote, escapechar, comment, encoding, encoding_errors, dialect, error_bad_lines, warn_bad_lines, on_bad_lines, delim_whitespace, low_memory, memory_map, float_precision, storage_options)\u001b[0m\n\u001b[1;32m    935\u001b[0m kwds_defaults \u001b[38;5;241m=\u001b[39m _refine_defaults_read(\n\u001b[1;32m    936\u001b[0m     dialect,\n\u001b[1;32m    937\u001b[0m     delimiter,\n\u001b[0;32m   (...)\u001b[0m\n\u001b[1;32m    946\u001b[0m     defaults\u001b[38;5;241m=\u001b[39m{\u001b[38;5;124m\"\u001b[39m\u001b[38;5;124mdelimiter\u001b[39m\u001b[38;5;124m\"\u001b[39m: \u001b[38;5;124m\"\u001b[39m\u001b[38;5;124m,\u001b[39m\u001b[38;5;124m\"\u001b[39m},\n\u001b[1;32m    947\u001b[0m )\n\u001b[1;32m    948\u001b[0m kwds\u001b[38;5;241m.\u001b[39mupdate(kwds_defaults)\n\u001b[0;32m--> 950\u001b[0m \u001b[38;5;28;01mreturn\u001b[39;00m \u001b[43m_read\u001b[49m\u001b[43m(\u001b[49m\u001b[43mfilepath_or_buffer\u001b[49m\u001b[43m,\u001b[49m\u001b[43m \u001b[49m\u001b[43mkwds\u001b[49m\u001b[43m)\u001b[49m\n",
      "File \u001b[0;32m~/anaconda3/lib/python3.10/site-packages/pandas/io/parsers/readers.py:605\u001b[0m, in \u001b[0;36m_read\u001b[0;34m(filepath_or_buffer, kwds)\u001b[0m\n\u001b[1;32m    602\u001b[0m _validate_names(kwds\u001b[38;5;241m.\u001b[39mget(\u001b[38;5;124m\"\u001b[39m\u001b[38;5;124mnames\u001b[39m\u001b[38;5;124m\"\u001b[39m, \u001b[38;5;28;01mNone\u001b[39;00m))\n\u001b[1;32m    604\u001b[0m \u001b[38;5;66;03m# Create the parser.\u001b[39;00m\n\u001b[0;32m--> 605\u001b[0m parser \u001b[38;5;241m=\u001b[39m \u001b[43mTextFileReader\u001b[49m\u001b[43m(\u001b[49m\u001b[43mfilepath_or_buffer\u001b[49m\u001b[43m,\u001b[49m\u001b[43m \u001b[49m\u001b[38;5;241;43m*\u001b[39;49m\u001b[38;5;241;43m*\u001b[39;49m\u001b[43mkwds\u001b[49m\u001b[43m)\u001b[49m\n\u001b[1;32m    607\u001b[0m \u001b[38;5;28;01mif\u001b[39;00m chunksize \u001b[38;5;129;01mor\u001b[39;00m iterator:\n\u001b[1;32m    608\u001b[0m     \u001b[38;5;28;01mreturn\u001b[39;00m parser\n",
      "File \u001b[0;32m~/anaconda3/lib/python3.10/site-packages/pandas/io/parsers/readers.py:1442\u001b[0m, in \u001b[0;36mTextFileReader.__init__\u001b[0;34m(self, f, engine, **kwds)\u001b[0m\n\u001b[1;32m   1439\u001b[0m     \u001b[38;5;28mself\u001b[39m\u001b[38;5;241m.\u001b[39moptions[\u001b[38;5;124m\"\u001b[39m\u001b[38;5;124mhas_index_names\u001b[39m\u001b[38;5;124m\"\u001b[39m] \u001b[38;5;241m=\u001b[39m kwds[\u001b[38;5;124m\"\u001b[39m\u001b[38;5;124mhas_index_names\u001b[39m\u001b[38;5;124m\"\u001b[39m]\n\u001b[1;32m   1441\u001b[0m \u001b[38;5;28mself\u001b[39m\u001b[38;5;241m.\u001b[39mhandles: IOHandles \u001b[38;5;241m|\u001b[39m \u001b[38;5;28;01mNone\u001b[39;00m \u001b[38;5;241m=\u001b[39m \u001b[38;5;28;01mNone\u001b[39;00m\n\u001b[0;32m-> 1442\u001b[0m \u001b[38;5;28mself\u001b[39m\u001b[38;5;241m.\u001b[39m_engine \u001b[38;5;241m=\u001b[39m \u001b[38;5;28;43mself\u001b[39;49m\u001b[38;5;241;43m.\u001b[39;49m\u001b[43m_make_engine\u001b[49m\u001b[43m(\u001b[49m\u001b[43mf\u001b[49m\u001b[43m,\u001b[49m\u001b[43m \u001b[49m\u001b[38;5;28;43mself\u001b[39;49m\u001b[38;5;241;43m.\u001b[39;49m\u001b[43mengine\u001b[49m\u001b[43m)\u001b[49m\n",
      "File \u001b[0;32m~/anaconda3/lib/python3.10/site-packages/pandas/io/parsers/readers.py:1735\u001b[0m, in \u001b[0;36mTextFileReader._make_engine\u001b[0;34m(self, f, engine)\u001b[0m\n\u001b[1;32m   1733\u001b[0m     \u001b[38;5;28;01mif\u001b[39;00m \u001b[38;5;124m\"\u001b[39m\u001b[38;5;124mb\u001b[39m\u001b[38;5;124m\"\u001b[39m \u001b[38;5;129;01mnot\u001b[39;00m \u001b[38;5;129;01min\u001b[39;00m mode:\n\u001b[1;32m   1734\u001b[0m         mode \u001b[38;5;241m+\u001b[39m\u001b[38;5;241m=\u001b[39m \u001b[38;5;124m\"\u001b[39m\u001b[38;5;124mb\u001b[39m\u001b[38;5;124m\"\u001b[39m\n\u001b[0;32m-> 1735\u001b[0m \u001b[38;5;28mself\u001b[39m\u001b[38;5;241m.\u001b[39mhandles \u001b[38;5;241m=\u001b[39m \u001b[43mget_handle\u001b[49m\u001b[43m(\u001b[49m\n\u001b[1;32m   1736\u001b[0m \u001b[43m    \u001b[49m\u001b[43mf\u001b[49m\u001b[43m,\u001b[49m\n\u001b[1;32m   1737\u001b[0m \u001b[43m    \u001b[49m\u001b[43mmode\u001b[49m\u001b[43m,\u001b[49m\n\u001b[1;32m   1738\u001b[0m \u001b[43m    \u001b[49m\u001b[43mencoding\u001b[49m\u001b[38;5;241;43m=\u001b[39;49m\u001b[38;5;28;43mself\u001b[39;49m\u001b[38;5;241;43m.\u001b[39;49m\u001b[43moptions\u001b[49m\u001b[38;5;241;43m.\u001b[39;49m\u001b[43mget\u001b[49m\u001b[43m(\u001b[49m\u001b[38;5;124;43m\"\u001b[39;49m\u001b[38;5;124;43mencoding\u001b[39;49m\u001b[38;5;124;43m\"\u001b[39;49m\u001b[43m,\u001b[49m\u001b[43m \u001b[49m\u001b[38;5;28;43;01mNone\u001b[39;49;00m\u001b[43m)\u001b[49m\u001b[43m,\u001b[49m\n\u001b[1;32m   1739\u001b[0m \u001b[43m    \u001b[49m\u001b[43mcompression\u001b[49m\u001b[38;5;241;43m=\u001b[39;49m\u001b[38;5;28;43mself\u001b[39;49m\u001b[38;5;241;43m.\u001b[39;49m\u001b[43moptions\u001b[49m\u001b[38;5;241;43m.\u001b[39;49m\u001b[43mget\u001b[49m\u001b[43m(\u001b[49m\u001b[38;5;124;43m\"\u001b[39;49m\u001b[38;5;124;43mcompression\u001b[39;49m\u001b[38;5;124;43m\"\u001b[39;49m\u001b[43m,\u001b[49m\u001b[43m \u001b[49m\u001b[38;5;28;43;01mNone\u001b[39;49;00m\u001b[43m)\u001b[49m\u001b[43m,\u001b[49m\n\u001b[1;32m   1740\u001b[0m \u001b[43m    \u001b[49m\u001b[43mmemory_map\u001b[49m\u001b[38;5;241;43m=\u001b[39;49m\u001b[38;5;28;43mself\u001b[39;49m\u001b[38;5;241;43m.\u001b[39;49m\u001b[43moptions\u001b[49m\u001b[38;5;241;43m.\u001b[39;49m\u001b[43mget\u001b[49m\u001b[43m(\u001b[49m\u001b[38;5;124;43m\"\u001b[39;49m\u001b[38;5;124;43mmemory_map\u001b[39;49m\u001b[38;5;124;43m\"\u001b[39;49m\u001b[43m,\u001b[49m\u001b[43m \u001b[49m\u001b[38;5;28;43;01mFalse\u001b[39;49;00m\u001b[43m)\u001b[49m\u001b[43m,\u001b[49m\n\u001b[1;32m   1741\u001b[0m \u001b[43m    \u001b[49m\u001b[43mis_text\u001b[49m\u001b[38;5;241;43m=\u001b[39;49m\u001b[43mis_text\u001b[49m\u001b[43m,\u001b[49m\n\u001b[1;32m   1742\u001b[0m \u001b[43m    \u001b[49m\u001b[43merrors\u001b[49m\u001b[38;5;241;43m=\u001b[39;49m\u001b[38;5;28;43mself\u001b[39;49m\u001b[38;5;241;43m.\u001b[39;49m\u001b[43moptions\u001b[49m\u001b[38;5;241;43m.\u001b[39;49m\u001b[43mget\u001b[49m\u001b[43m(\u001b[49m\u001b[38;5;124;43m\"\u001b[39;49m\u001b[38;5;124;43mencoding_errors\u001b[39;49m\u001b[38;5;124;43m\"\u001b[39;49m\u001b[43m,\u001b[49m\u001b[43m \u001b[49m\u001b[38;5;124;43m\"\u001b[39;49m\u001b[38;5;124;43mstrict\u001b[39;49m\u001b[38;5;124;43m\"\u001b[39;49m\u001b[43m)\u001b[49m\u001b[43m,\u001b[49m\n\u001b[1;32m   1743\u001b[0m \u001b[43m    \u001b[49m\u001b[43mstorage_options\u001b[49m\u001b[38;5;241;43m=\u001b[39;49m\u001b[38;5;28;43mself\u001b[39;49m\u001b[38;5;241;43m.\u001b[39;49m\u001b[43moptions\u001b[49m\u001b[38;5;241;43m.\u001b[39;49m\u001b[43mget\u001b[49m\u001b[43m(\u001b[49m\u001b[38;5;124;43m\"\u001b[39;49m\u001b[38;5;124;43mstorage_options\u001b[39;49m\u001b[38;5;124;43m\"\u001b[39;49m\u001b[43m,\u001b[49m\u001b[43m \u001b[49m\u001b[38;5;28;43;01mNone\u001b[39;49;00m\u001b[43m)\u001b[49m\u001b[43m,\u001b[49m\n\u001b[1;32m   1744\u001b[0m \u001b[43m\u001b[49m\u001b[43m)\u001b[49m\n\u001b[1;32m   1745\u001b[0m \u001b[38;5;28;01massert\u001b[39;00m \u001b[38;5;28mself\u001b[39m\u001b[38;5;241m.\u001b[39mhandles \u001b[38;5;129;01mis\u001b[39;00m \u001b[38;5;129;01mnot\u001b[39;00m \u001b[38;5;28;01mNone\u001b[39;00m\n\u001b[1;32m   1746\u001b[0m f \u001b[38;5;241m=\u001b[39m \u001b[38;5;28mself\u001b[39m\u001b[38;5;241m.\u001b[39mhandles\u001b[38;5;241m.\u001b[39mhandle\n",
      "File \u001b[0;32m~/anaconda3/lib/python3.10/site-packages/pandas/io/common.py:856\u001b[0m, in \u001b[0;36mget_handle\u001b[0;34m(path_or_buf, mode, encoding, compression, memory_map, is_text, errors, storage_options)\u001b[0m\n\u001b[1;32m    851\u001b[0m \u001b[38;5;28;01melif\u001b[39;00m \u001b[38;5;28misinstance\u001b[39m(handle, \u001b[38;5;28mstr\u001b[39m):\n\u001b[1;32m    852\u001b[0m     \u001b[38;5;66;03m# Check whether the filename is to be opened in binary mode.\u001b[39;00m\n\u001b[1;32m    853\u001b[0m     \u001b[38;5;66;03m# Binary mode does not support 'encoding' and 'newline'.\u001b[39;00m\n\u001b[1;32m    854\u001b[0m     \u001b[38;5;28;01mif\u001b[39;00m ioargs\u001b[38;5;241m.\u001b[39mencoding \u001b[38;5;129;01mand\u001b[39;00m \u001b[38;5;124m\"\u001b[39m\u001b[38;5;124mb\u001b[39m\u001b[38;5;124m\"\u001b[39m \u001b[38;5;129;01mnot\u001b[39;00m \u001b[38;5;129;01min\u001b[39;00m ioargs\u001b[38;5;241m.\u001b[39mmode:\n\u001b[1;32m    855\u001b[0m         \u001b[38;5;66;03m# Encoding\u001b[39;00m\n\u001b[0;32m--> 856\u001b[0m         handle \u001b[38;5;241m=\u001b[39m \u001b[38;5;28;43mopen\u001b[39;49m\u001b[43m(\u001b[49m\n\u001b[1;32m    857\u001b[0m \u001b[43m            \u001b[49m\u001b[43mhandle\u001b[49m\u001b[43m,\u001b[49m\n\u001b[1;32m    858\u001b[0m \u001b[43m            \u001b[49m\u001b[43mioargs\u001b[49m\u001b[38;5;241;43m.\u001b[39;49m\u001b[43mmode\u001b[49m\u001b[43m,\u001b[49m\n\u001b[1;32m    859\u001b[0m \u001b[43m            \u001b[49m\u001b[43mencoding\u001b[49m\u001b[38;5;241;43m=\u001b[39;49m\u001b[43mioargs\u001b[49m\u001b[38;5;241;43m.\u001b[39;49m\u001b[43mencoding\u001b[49m\u001b[43m,\u001b[49m\n\u001b[1;32m    860\u001b[0m \u001b[43m            \u001b[49m\u001b[43merrors\u001b[49m\u001b[38;5;241;43m=\u001b[39;49m\u001b[43merrors\u001b[49m\u001b[43m,\u001b[49m\n\u001b[1;32m    861\u001b[0m \u001b[43m            \u001b[49m\u001b[43mnewline\u001b[49m\u001b[38;5;241;43m=\u001b[39;49m\u001b[38;5;124;43m\"\u001b[39;49m\u001b[38;5;124;43m\"\u001b[39;49m\u001b[43m,\u001b[49m\n\u001b[1;32m    862\u001b[0m \u001b[43m        \u001b[49m\u001b[43m)\u001b[49m\n\u001b[1;32m    863\u001b[0m     \u001b[38;5;28;01melse\u001b[39;00m:\n\u001b[1;32m    864\u001b[0m         \u001b[38;5;66;03m# Binary mode\u001b[39;00m\n\u001b[1;32m    865\u001b[0m         handle \u001b[38;5;241m=\u001b[39m \u001b[38;5;28mopen\u001b[39m(handle, ioargs\u001b[38;5;241m.\u001b[39mmode)\n",
      "\u001b[0;31mFileNotFoundError\u001b[0m: [Errno 2] No such file or directory: 'bikes_rent.csv'"
     ]
    }
   ],
   "source": [
    "df = pd.read_csv('bikes_rent.csv')\n",
    "\n",
    "print(df.shape)\n",
    "\n",
    "df.head( )"
   ]
  },
  {
   "cell_type": "markdown",
   "metadata": {
    "id": "N41gWMVYPBOS"
   },
   "source": [
    "__Описание переменных:__\n",
    "\n",
    "* `season`  1 - весна, 2 - лето, 3 - осень, 4 - зима\n",
    "* `yr`  0 - 2011, 1 - 2012\n",
    "* `mnth`  от 1 до 12\n",
    "* `holiday`  0 - нет праздника, 1 - есть праздник\n",
    "* `weekday`  от 0 до 6\n",
    "* `workingday`  0 - нерабочий день, 1 - рабочий день\n",
    "* `weathersit`  оценка благоприятности погоды от 1 (чистый, ясный день) до 4 (ливень, туман)\n",
    "* `temp`  температура в Цельсиях\n",
    "* `atemp`  температура по ощущениям в Цельсиях\n",
    "* `hum`  влажность\n",
    "* `windspeed(mph)`  скорость ветра в милях в час\n",
    "* `windspeed(ms)`  скорость ветра в метрах в секунду\n",
    "* `cnt`  количество арендованных велосипедов (это целевой признак, его мы будем предсказывать)"
   ]
  },
  {
   "cell_type": "code",
   "execution_count": null,
   "metadata": {
    "id": "rgfOSFgJPBOS"
   },
   "outputs": [],
   "source": [
    "# Функция для того, чтобы на одной картинке смотреть те графики с прогнозами:\n",
    "\n",
    "def plot_yreal_ypred(y_test, y_train, y_test_hat, y_train_hat):\n",
    "\n",
    "    margin = 0.1 # отступ на границах\n",
    "    plt.figure(figsize=(10,5))\n",
    "    plt.subplot(121)\n",
    "    plt.scatter(y_train, y_train_hat, color=\"red\", alpha=0.5)\n",
    "    plt.xlabel('Истинные значения')\n",
    "    plt.ylabel('Предсказанные значения')\n",
    "    plt.axis('equal')\n",
    "    plt.axis('square')\n",
    "    train_min = min(y_train)\n",
    "    train_max = max(y_train)\n",
    "    plt.xlim(train_min - margin, train_max + margin)\n",
    "    plt.ylim(train_min - margin, train_max + margin)\n",
    "    plt.plot([-10000, 10000], [-10000, 10000])\n",
    "    plt.title('Train set', fontsize=20)\n",
    "\n",
    "    plt.subplot(122)\n",
    "    plt.scatter(y_test, y_test_hat, color=\"red\", alpha=0.5)\n",
    "    plt.xlabel('Истинные значения')\n",
    "    plt.ylabel('Предсказанные значения')\n",
    "    plt.axis('equal')\n",
    "    plt.axis('square')\n",
    "    test_min = min(y_test)\n",
    "    test_max = max(y_test)\n",
    "    plt.xlim(test_min - margin, test_max + margin)\n",
    "    plt.ylim(test_min - margin, test_max + margin)\n",
    "    plt.plot([-10000, 10000], [-10000, 10000])\n",
    "    plt.title('Test set', fontsize=20)\n",
    "    \n",
    "    pass"
   ]
  },
  {
   "cell_type": "markdown",
   "metadata": {
    "id": "B_qLCr2CPBOS"
   },
   "source": [
    "## 1. EDA"
   ]
  },
  {
   "cell_type": "markdown",
   "metadata": {
    "id": "IyGVv7UKPBOS"
   },
   "source": [
    "__а) [5 баллов]__ Проверьте, есть ли в данных пропуски"
   ]
  },
  {
   "cell_type": "code",
   "execution_count": null,
   "metadata": {
    "colab": {
     "base_uri": "https://localhost:8080/"
    },
    "id": "vaAydGlLPBOT",
    "outputId": "c55ac68c-7cb9-40b6-e22b-d92ac56f8ab0"
   },
   "outputs": [],
   "source": [
    "missing_values = df.isnull().sum()\n",
    "\n",
    "print(missing_values)"
   ]
  },
  {
   "cell_type": "markdown",
   "metadata": {
    "id": "BskdAzunT27J"
   },
   "source": [
    "__Ответ:__ В данных нет пропусков."
   ]
  },
  {
   "cell_type": "markdown",
   "metadata": {
    "id": "wLVIfNUNPBOT"
   },
   "source": [
    "__б) [5 баллов]__ Составьте список из категориальных переменных и список из действительных переменных."
   ]
  },
  {
   "cell_type": "code",
   "execution_count": null,
   "metadata": {
    "colab": {
     "base_uri": "https://localhost:8080/"
    },
    "id": "0MCKXtI8PBOT",
    "outputId": "04d44dbf-de2a-4f48-d44f-beb0ccf32d61"
   },
   "outputs": [],
   "source": [
    "var_cat = ['season', 'yr', 'mnth', 'holiday', 'weekday', 'workingday', 'weathersit']\n",
    "\n",
    "var_real = ['temp', 'atemp', 'hum', 'windspeed(mph)', 'windspeed(ms)']\n",
    "\n",
    "target = 'cnt'\n",
    "\n",
    "print('Список категориальных переменных: ', var_cat)\n",
    "print('Список действительных переменных: ', var_real)"
   ]
  },
  {
   "cell_type": "markdown",
   "metadata": {
    "id": "9JlQQeJ7PBOT"
   },
   "source": [
    "__в) [5 баллов]__ Нарисуйте гистограмму для целевого признака. Что можете сказать о его хвосте? Надо ли предпринять какие-нибудь манипуляции, связанные с борьбой с выбросами?"
   ]
  },
  {
   "cell_type": "code",
   "execution_count": null,
   "metadata": {
    "colab": {
     "base_uri": "https://localhost:8080/",
     "height": 472
    },
    "id": "rqR3RBGzPBOT",
    "outputId": "d028b660-5944-461b-91e2-4842adf48395"
   },
   "outputs": [],
   "source": [
    "sns.histplot(df[target], bins=20, kde=True)\n",
    "plt.title('Распределение количества арендованных велосипедов')\n",
    "plt.xlabel('Количество арендованных велосипедов')\n",
    "plt.ylabel('Частота')\n",
    "\n",
    "plt.show()"
   ]
  },
  {
   "cell_type": "markdown",
   "metadata": {
    "id": "yqW9r01zPBOT"
   },
   "source": [
    "__Ответ:__ Выбросы на графике имеются (\"хвосты\" можно наблюдать в точках 2750 и 7750 по оси Ox), но апроксимирующая линия идёт довольно плавно, согласно Гауссовскому распределению."
   ]
  },
  {
   "cell_type": "markdown",
   "metadata": {
    "id": "8f9mpJMHPBOU"
   },
   "source": [
    "__г) [5 баллов]__ Давайте посмотрим на то, как переменные коррелируют с таргетом. Для этого постройте соответствующую облака рассеивания."
   ]
  },
  {
   "cell_type": "code",
   "execution_count": null,
   "metadata": {
    "colab": {
     "base_uri": "https://localhost:8080/",
     "height": 661
    },
    "id": "ognAOYyiPBOU",
    "outputId": "3949ce09-0cdc-4d09-9634-beb0308f7656"
   },
   "outputs": [],
   "source": [
    "plt.figure(figsize=(16, 12))\n",
    "\n",
    "for var in var_cat:\n",
    "    plt.subplot(4, 4, var_cat.index(var) + 1)\n",
    "    sns.scatterplot(x=var, y=target, data=df, alpha=0.5)\n",
    "    plt.title('Scatterplot of {} vs target'.format(var))\n",
    "    plt.xlabel(var)\n",
    "    plt.ylabel(target)\n",
    "\n",
    "for var in var_real:\n",
    "    plt.subplot(4, 4, var_real.index(var) + 1 + len(var_cat))\n",
    "    sns.scatterplot(x=var, y=target, data=df, alpha=0.5)\n",
    "    plt.title('Scatterplot of {} vs target'.format(var))\n",
    "    plt.xlabel(var)\n",
    "    plt.ylabel(target)\n",
    "\n",
    "plt.tight_layout()\n",
    "\n",
    "plt.show()"
   ]
  },
  {
   "cell_type": "markdown",
   "metadata": {
    "id": "bhc-xHkkPBOU"
   },
   "source": [
    "__д) [5 баллов]__ Каков характер зависимости числа прокатов от месяца? От каких признаков спрос зависит линейно?\n",
    "\n",
    "__Ответ на 1 вопрос:__  зависимость числа прокатов от месяца года напоминает полиномиальную, симметричную зависимость."
   ]
  },
  {
   "cell_type": "markdown",
   "metadata": {
    "id": "93Ol-zZqVHbo"
   },
   "source": [
    "Для того, чтобы ответить на второй вопрос, построим матрицу корреляции и по итоговым значениям корреляции определим от каких признаков спрос зависит линейно.\n",
    "Высокие по модулю значения коэффициента корреляции указывают на сильную линейную зависимость между переменными."
   ]
  },
  {
   "cell_type": "code",
   "execution_count": null,
   "metadata": {
    "colab": {
     "base_uri": "https://localhost:8080/"
    },
    "id": "f08uuQUCMa94",
    "outputId": "e7eb0182-35fe-4aad-856f-37b34e561fba"
   },
   "outputs": [],
   "source": [
    "correlation_matrix = df.corr()\n",
    "\n",
    "correlation_with_target = correlation_matrix['cnt'].sort_values(ascending=False)\n",
    "\n",
    "print(correlation_with_target)"
   ]
  },
  {
   "cell_type": "markdown",
   "metadata": {
    "id": "wFivNtCZWHNk"
   },
   "source": [
    "__Ответ на 2 вопрос:__ Наивысший по модулю коэффициент от числа прокатов (нашего таргета) наблюдается с переменными atemp и temp. То есть можно предположить, что число прокатов линейно зависит от температуры воздуха."
   ]
  },
  {
   "cell_type": "markdown",
   "metadata": {
    "id": "FwAlCnL4PBOU"
   },
   "source": [
    "__е) [5 баллов]__ Постройте гистограммы для всех непрерывных переменных. Что можете сказать о выбросах?"
   ]
  },
  {
   "cell_type": "code",
   "execution_count": null,
   "metadata": {
    "colab": {
     "base_uri": "https://localhost:8080/",
     "height": 711
    },
    "id": "_13uLTgMPBOU",
    "outputId": "c1bbf7ad-8897-42a1-cafc-c3c925c51d30"
   },
   "outputs": [],
   "source": [
    "plt.figure(figsize=(16, 10))\n",
    "\n",
    "for i, var in enumerate(var_real):\n",
    "    plt.subplot(2, 3, i+1)\n",
    "    plt.hist(df[var], bins=30, edgecolor='black')\n",
    "    plt.title('Histogram of {}'.format(var))\n",
    "    plt.xlabel(var)\n",
    "    plt.ylabel('Frequency')\n",
    "\n",
    "plt.tight_layout()\n",
    "\n",
    "plt.show()"
   ]
  },
  {
   "cell_type": "markdown",
   "metadata": {
    "id": "_kwsh_vsZo57"
   },
   "source": [
    "__Ответ:__ Выбросы можно заметить на гистограммах температур (temp в значениях 20, 24, 30; atemp в значениях 25, 26, 31, 32)."
   ]
  },
  {
   "cell_type": "markdown",
   "metadata": {
    "id": "pcvEeTBmPBOU"
   },
   "source": [
    "__ж) [5 баллов]__ Постройте между непрерывными признаками корреляционную матрицу. Нарисуйте её. Какие признаки, скорее всего, неинформативны? Почему они на ваш взгляд такие?"
   ]
  },
  {
   "cell_type": "code",
   "execution_count": null,
   "metadata": {
    "colab": {
     "base_uri": "https://localhost:8080/",
     "height": 555
    },
    "id": "moU7P1TXPBOU",
    "outputId": "584d80a8-315f-4b78-8cd0-b7ba5e7de0d3"
   },
   "outputs": [],
   "source": [
    "correlation_matrix_var_real = df[var_real].corr()\n",
    "\n",
    "sns.heatmap(correlation_matrix_var_real, annot=True, cmap='coolwarm', fmt=\".2f\", linewidths=0.5)\n",
    "plt.title('Correlation Matrix of continuous variables')\n",
    "\n",
    "plt.show()"
   ]
  },
  {
   "cell_type": "markdown",
   "metadata": {
    "id": "nJGhL1zJPBOU"
   },
   "source": [
    "__Ответ:__ Temp и Atemp сильно коррелируют между собой, так как \"температура по ощущениям\" (atemp) сильно зависит от фактической температуры (temp), между Windspeed (mph) и Windspeed (ms) также прослеживается сильная корреляция, поскольку это одно и то же измерение, только в разных единицах. На основе этого, мы можем сделать вывод, что во избежание избыточности можно оставить лишь 1 переменную температуры и 1 переменную, отвечающую за скорость ветра. То есть 2 переменные из 5 оказались неинформативными."
   ]
  },
  {
   "cell_type": "markdown",
   "metadata": {
    "id": "woG3-9y4PBOU"
   },
   "source": [
    "__з) [5 баллов]__ Постройте для всех категориальных переменных _countplot_. Что интересного вы видите в распределеии этих признаков?  Встречаются ли слишком обширные категории, в которых очень маленькие части нам придётся объединять в категорию \"другое\"?"
   ]
  },
  {
   "cell_type": "code",
   "execution_count": null,
   "metadata": {
    "colab": {
     "base_uri": "https://localhost:8080/",
     "height": 709
    },
    "id": "zGH5-7kQPBOV",
    "outputId": "9a9423fa-c38f-433a-83f6-e87609a988cc"
   },
   "outputs": [],
   "source": [
    "plt.figure(figsize=(16, 10))\n",
    "\n",
    "for i, var in enumerate(var_cat):\n",
    "    plt.subplot(3, 3, i+1)\n",
    "    sns.countplot(x=var, data=df)\n",
    "    plt.title('Countplot of {}'.format(var))\n",
    "    plt.xlabel(var)\n",
    "    plt.ylabel('Count')\n",
    "\n",
    "plt.tight_layout()\n",
    "plt.show()"
   ]
  },
  {
   "cell_type": "markdown",
   "metadata": {
    "id": "F0_7cf0bPBOV"
   },
   "source": [
    "__Ответ:__  Распределение переменных season, yr, mnth, weekday равномерно.\n",
    "Из интересного: праздников гораздо меньше, чем не праздников (логично); рабочих дней в два раза больше, чем не рабочих (что тоже абсолютно логично); стоит обратить внимание на переменную weathlist (оценка благоприятности погоды от 1 (чистый, ясный день) до 4 (ливень, туман)): по распределению видно, что при неблагоприятной погоде никто ни разу не брал велосипед в прокат за всё время сбора статистики,оценка \"3\" благоприятности тоже крайне непопулярна среди велопользователей.\n",
    "Предполагаю, что оценки 3 и 4 благоприятности погоды можно было бы объединить в категорию \"другое\", но оценка 4 настолько непопулярна, что её даже нет в собранной за несколько лет статистике."
   ]
  },
  {
   "cell_type": "markdown",
   "metadata": {
    "id": "3gg-R-bVPBOV"
   },
   "source": [
    "__и) [5 баллов]__  Сделайте OHE-кодирование. Сколько свежих OHE-признаков у нас появилось?"
   ]
  },
  {
   "cell_type": "code",
   "execution_count": null,
   "metadata": {
    "colab": {
     "base_uri": "https://localhost:8080/"
    },
    "id": "LqTkF2Z1PBOV",
    "outputId": "37d5b36e-74ac-4975-ccfb-04be18ca65d1"
   },
   "outputs": [],
   "source": [
    "df_ohe = pd.get_dummies(df[var_cat])\n",
    "num_ohe = df_ohe.shape[1]\n",
    "\n",
    "print(\"Количество свежих OHE-признаков:\", num_ohe)"
   ]
  },
  {
   "cell_type": "markdown",
   "metadata": {
    "id": "JGUCK2dvPBOV"
   },
   "source": [
    "__к) [5 баллов]__   Некоторые из наших переменных могут вносить в спрос на велики квадратичный вклад. Например, температура.\n",
    "\n",
    "Сначала, когда температура возрастает, люди выходят кататься охотнее, а потом, когда становится жарко, спрос резко падает. Так возникает параболическая зависимость.\n",
    "\n",
    "Создайте для каждой действительной переменной из данных дополнительную переменную: её квадрат."
   ]
  },
  {
   "cell_type": "code",
   "execution_count": null,
   "metadata": {
    "id": "mecbTC4GPBOV"
   },
   "outputs": [],
   "source": [
    "for i in var_real:\n",
    "    df[i + '_squared'] = df[i] ** 2"
   ]
  },
  {
   "cell_type": "markdown",
   "metadata": {
    "id": "IDKGi3s4PBOV"
   },
   "source": [
    "__л) [5 баллов]__  Попробуйте придумать ещё какую-нибудь новую фичу (дополнительную переменную) для прогнозирования. Опишите какая за вашей фичёй стоит интуиция и почему это должно сработать при моделировании."
   ]
  },
  {
   "cell_type": "markdown",
   "metadata": {
    "id": "V2VDq20C9A1P"
   },
   "source": [
    "Моя идея - создание новой переменной index_of_comf, которая будет оценивать комфортность для велосипедиста, переменная зависит от температуры воздуха, влажности и скорости ветра, а также оценки благоприятности погоды. Чем выше значение переменной index_of_comf, тем более комфортные условия для велосипедиста."
   ]
  },
  {
   "cell_type": "code",
   "execution_count": null,
   "metadata": {
    "id": "f_uqYroaPBOV"
   },
   "outputs": [],
   "source": [
    "# Веса:\n",
    "\n",
    "w_temp = 0.4\n",
    "w_hum = 0.3\n",
    "w_windspeed = 0.2\n",
    "w_weathersit = 0.1\n",
    "\n",
    "df['index_of_comf'] = (w_temp * df['temp'] +\n",
    "                       w_hum * df['hum'] +\n",
    "                       w_windspeed * df['windspeed(ms)'] +\n",
    "                       w_weathersit * df['weathersit'])\n"
   ]
  },
  {
   "cell_type": "markdown",
   "metadata": {
    "id": "oEwVBpUiArmB"
   },
   "source": [
    "Температура воздуха: Эта переменная имеет наибольший вес, потому что температура играет ключевую роль в комфортном вождении на велосипеде.\n",
    "\n",
    "Влажность: Высокая влажность может сделать жару более невыносимой, в то время как низкая влажность может вызвать ощущение сухости.\n",
    "\n",
    "Скорость ветра: Скорость ветра имеет меньший вес, потому что она влияет на комфорт в меньшей степени, чем температура и влажность. Однако сильный ветер может усложнять вождение, вследствии чего индекс комфорта понизится.\n",
    "\n",
    "Оценка благоприятности погоды: Этот фактор представляет собой категориальную оценку общей благоприятности погоды. В отличие от температуры, влажности и скорости ветра, его влияние на комфортность может быть менее прямым."
   ]
  },
  {
   "cell_type": "code",
   "execution_count": null,
   "metadata": {
    "colab": {
     "base_uri": "https://localhost:8080/",
     "height": 226
    },
    "id": "uJhGvxPdCu4r",
    "outputId": "f5a42cc7-21cd-40b8-948a-30619fe91178"
   },
   "outputs": [],
   "source": [
    "df.head( )"
   ]
  },
  {
   "cell_type": "markdown",
   "metadata": {
    "id": "oQysV3q9PBOW"
   },
   "source": [
    "## 2. Обучение модели"
   ]
  },
  {
   "cell_type": "markdown",
   "metadata": {
    "id": "3SiGIVyZPBOW"
   },
   "source": [
    "__а) [10 баллов]__  Разбейте выборку на тренировочную и тестовую."
   ]
  },
  {
   "cell_type": "markdown",
   "metadata": {
    "id": "jF7cEtkYFj1A"
   },
   "source": [
    "Разбиваю выборку в соотношении 80/20. 80% на обучение - тренировочная часть и 20% на тестирование."
   ]
  },
  {
   "cell_type": "code",
   "execution_count": null,
   "metadata": {
    "id": "Kramm5L5PBOW"
   },
   "outputs": [],
   "source": [
    "from sklearn.model_selection import train_test_split\n",
    "\n",
    "x = df.drop('cnt', axis=1)\n",
    "y = df['cnt']\n",
    "\n",
    "x_train, x_test, y_train, y_test = train_test_split(x, y, test_size=0.2, random_state=42)"
   ]
  },
  {
   "cell_type": "markdown",
   "metadata": {
    "id": "XRMuwYXgPBOW"
   },
   "source": [
    "__б) [10 баллов]__ Возьмите RMSE в качестве метрики качества. Для этого нужно написать свою функцию. Постройте наивный прогноз (среднее) и найдите для него RMSE."
   ]
  },
  {
   "cell_type": "code",
   "execution_count": null,
   "metadata": {
    "colab": {
     "base_uri": "https://localhost:8080/"
    },
    "id": "-Kf17xuUPBOe",
    "outputId": "bf5f129b-b131-42b2-c034-d3cab2f89ae7"
   },
   "outputs": [],
   "source": [
    "def calculate_rmse(y_true, y_pred):\n",
    "    mse = np.mean((y_true - y_pred) ** 2)\n",
    "    rmse = np.sqrt(mse)\n",
    "    return rmse\n",
    "\n",
    "naive_prediction = np.mean(y_train)\n",
    "naive_predictions_test = np.full_like(y_test, fill_value=naive_prediction)\n",
    "rmse_naive = calculate_rmse(y_test, naive_predictions_test)\n",
    "\n",
    "print(\"RMSE для наивного прогноза:\", rmse_naive)"
   ]
  },
  {
   "cell_type": "markdown",
   "metadata": {
    "id": "6sAb_XxOPBOe"
   },
   "source": [
    "__в) [5 баллов]__ Запустите код с разбиением выборки на тренировочную и тестовую, подсчётом наивного прогноза и RMSE по нему несколько раз. НЕ НАДО НИЧЕГО КОПИРОВАТЬ. ПРОСТО ПЕРЕЗАПУСТИТЕ КОД ТРИ РАЗА. Меняется ли RMSE? Почему оно меняется? К чему плохому это может привести при обучении? Как это обычно исправляют?\n",
    "\n",
    "__Ответ:__  RMSE не меняется, так как изначально мной был зафиксирован seed для случайного разбиения данных 'random_state=42'. Изменяющееся RMSE указывает на нестабильность оценки качества модели, что может усложнить процесс сравнения и выбора модели.\n",
    "\n",
    "Чтобы стабилизировать процесс оценки модели и получать воспроизводимые результаты, обычно фиксируют seed для генератора случайных чисел. Также можно использовать cross-validation, то есть перекрестную проверку, которая делит данные на несколько частей и обучает модель на каждой части, а затем усредняет результаты, чтобы получить более стабильную оценку производительности модели."
   ]
  },
  {
   "cell_type": "markdown",
   "metadata": {
    "id": "w7XuPwhEPBOe"
   },
   "source": [
    "__г) [10 баллов]__ Оцените линейную регрессию. Насколько удалось улучшить качество прогнозирования в сравнении с наивным прогнозом?  Визуализируйте прогнозы функцией `plot_yreal_ypred`.\n",
    "\n",
    "Что вы видите на этой визуализации? Проинтерпретируйте картинку.\n"
   ]
  },
  {
   "cell_type": "code",
   "execution_count": null,
   "metadata": {
    "id": "YarPTAHFVTJp"
   },
   "outputs": [],
   "source": [
    "from sklearn.linear_model import LinearRegression\n",
    "from sklearn.metrics import mean_squared_error"
   ]
  },
  {
   "cell_type": "code",
   "execution_count": null,
   "metadata": {
    "colab": {
     "base_uri": "https://localhost:8080/"
    },
    "id": "heaOKYv3VRaS",
    "outputId": "d375dfa0-be29-4531-a949-bfe436336585"
   },
   "outputs": [],
   "source": [
    "model = LinearRegression()\n",
    "model.fit(x_train, y_train)\n",
    "\n",
    "y_train_pred = model.predict(x_train)\n",
    "y_test_pred = model.predict(x_test)\n",
    "\n",
    "rmse_train = np.sqrt(mean_squared_error(y_train, y_train_pred))\n",
    "rmse_test = np.sqrt(mean_squared_error(y_test, y_test_pred))\n",
    "\n",
    "print(\"RMSE для наивного прогноза:\", rmse_naive)\n",
    "print(\"RMSE для линейной регрессии на тренировочной выборке:\", rmse_train)\n",
    "print(\"RMSE для линейной регрессии на тестовой выборке:\", rmse_test)"
   ]
  },
  {
   "cell_type": "markdown",
   "metadata": {
    "id": "BnNvY-M_WNdI"
   },
   "source": [
    "__Ответ:__ Модель линейной регрессии повысила качество прогнозирования по сравнению с наивным прогнозом. Разница между RMSE для линейной регрессии на тренировочной и на тестовой выборках имеют довольно близкие значения в сравнении с RMSE для наивного прогноза."
   ]
  },
  {
   "cell_type": "code",
   "execution_count": null,
   "metadata": {
    "colab": {
     "base_uri": "https://localhost:8080/",
     "height": 462
    },
    "id": "_mIIhjsRPBOe",
    "outputId": "61fcd13e-a80f-4b8c-f875-15d345567757"
   },
   "outputs": [],
   "source": [
    "# Визуализация прогнозов:\n",
    "\n",
    "def plot_yreal_ypred(y_test, y_train, y_test_hat, y_train_hat):\n",
    "    margin = 0.1\n",
    "    plt.figure(figsize=(10, 5))\n",
    "    plt.subplot(121)\n",
    "    plt.scatter(y_train, y_train_hat, color=\"red\", alpha=0.5)\n",
    "    plt.xlabel('True values')\n",
    "    plt.ylabel('Predicted values')\n",
    "    plt.axis('equal')\n",
    "    plt.axis('square')\n",
    "    train_min = min(y_train)\n",
    "    train_max = max(y_train)\n",
    "    plt.xlim(train_min - margin, train_max + margin)\n",
    "    plt.ylim(train_min - margin, train_max + margin)\n",
    "    plt.plot([-10000, 10000], [-10000, 10000])\n",
    "    plt.title('Train set', fontsize=20)\n",
    "\n",
    "    plt.subplot(122)\n",
    "    plt.scatter(y_test, y_test_hat, color=\"red\", alpha=0.5)\n",
    "    plt.xlabel('True values')\n",
    "    plt.ylabel('Predicted values')\n",
    "    plt.axis('equal')\n",
    "    plt.axis('square')\n",
    "    test_min = min(y_test)\n",
    "    test_max = max(y_test)\n",
    "    plt.xlim(test_min - margin, test_max + margin)\n",
    "    plt.ylim(test_min - margin, test_max + margin)\n",
    "    plt.plot([-10000, 10000], [-10000, 10000])\n",
    "    plt.title('Test set', fontsize=20)\n",
    "    plt.show()\n",
    "\n",
    "plot_yreal_ypred(y_test, y_train, y_test_pred, y_train_pred)"
   ]
  },
  {
   "cell_type": "markdown",
   "metadata": {
    "id": "ZNe1hH_uXYbj"
   },
   "source": [
    "__Ответ:__ Как на тестовой, так и на тренировочной выборках, точки лежат достаточно близко к диагонали, что означает хорошее качество прогнозов.\n",
    "Если же все точки лежали бы на диагонали, то это был бы идеальный случай прогнозирования.\n",
    "Однако возможна ситуация, когда точки сильно отклоняются от диагонали, что указывает на ошибки в модели."
   ]
  },
  {
   "cell_type": "markdown",
   "metadata": {
    "id": "EnR3AV21PBOe"
   },
   "source": [
    "__д) [10 баллов]__ Какими получились значения перед коэффициентами у вашей модели?  Как думаете, почему такое произошло?\n"
   ]
  },
  {
   "cell_type": "code",
   "execution_count": null,
   "metadata": {
    "colab": {
     "base_uri": "https://localhost:8080/"
    },
    "id": "4tTiLei3PBOe",
    "outputId": "7b0bb66f-28ad-42e1-fc61-b3201fc344cf"
   },
   "outputs": [],
   "source": [
    "coefficients = model.coef_\n",
    "\n",
    "print(\"Коэффициенты:\")\n",
    "for feature, coef in zip(x_train.columns, coefficients):\n",
    "    print(f\"{feature}: {coef}\")"
   ]
  },
  {
   "cell_type": "markdown",
   "metadata": {
    "id": "JUx32kcjbVRC"
   },
   "source": [
    "__Ответ:__\n",
    "\n",
    "Если коэффициент положительный, то это означает, что с увеличением значения признака, целевой признак также увеличивается. Например, temp имеет довольно высокий положительный коэффициент, это значит, что с повышением температуры увеличивается и количество арендованных велосипедов.\n",
    "Переменные temp и atemp, а также windspeed(mph) и windspeed(ms) имеют разные знаки. Так, вероятно, происходит из-за того, что возникает мультиколлинеарность (два или более признаков сильно коррелируют между собой, что может затруднять интерпретацию коэффициентов модели линейной регрессии).\n",
    "Решение данной проблемы - удаление одного из сильно коррелирующих признаков из каждой пары."
   ]
  },
  {
   "cell_type": "markdown",
   "metadata": {
    "id": "NLmSKQThPBOf"
   },
   "source": [
    "## 3. Бонус"
   ]
  },
  {
   "cell_type": "markdown",
   "metadata": {
    "id": "dDNG0HTLPBOf"
   },
   "source": [
    "__a) [2 балла]__ Обучите Lasso-регрессию. В качестве силы регуляризации возьмите $\\alpha = 40$.\n",
    "\n",
    "* Каким получилось качество прогноза?\n",
    "* Что в модели произошло с коэффициентами?  "
   ]
  },
  {
   "cell_type": "code",
   "execution_count": null,
   "metadata": {
    "colab": {
     "base_uri": "https://localhost:8080/"
    },
    "id": "8rTQBFjxPBOf",
    "outputId": "83fe07f3-46b4-495a-af56-909390584c89"
   },
   "outputs": [],
   "source": [
    "from sklearn.linear_model import Lasso\n",
    "\n",
    "lasso = Lasso(alpha=40)\n",
    "lasso.fit(x_train, y_train)\n",
    "\n",
    "y_train_pred_lasso = lasso.predict(x_train)\n",
    "y_test_pred_lasso = lasso.predict(x_test)\n",
    "\n",
    "rmse_train_lasso = np.sqrt(mean_squared_error(y_train, y_train_pred_lasso))\n",
    "rmse_test_lasso = np.sqrt(mean_squared_error(y_test, y_test_pred_lasso))\n",
    "\n",
    "print('RMSE для Lasso-регрессии на тренировочной выборке: ', rmse_train_lasso)\n",
    "print('RMSE для Lasso-регрессии на тестовой выборке: ', rmse_test_lasso)"
   ]
  },
  {
   "cell_type": "code",
   "execution_count": null,
   "metadata": {
    "colab": {
     "base_uri": "https://localhost:8080/"
    },
    "id": "n1QXKLUofRpM",
    "outputId": "b6471e9e-6e54-47ec-96bf-1090047736ff"
   },
   "outputs": [],
   "source": [
    "coefficients_lasso = lasso.coef_\n",
    "\n",
    "print(\"Коэффициенты:\")\n",
    "for feature, coef in zip(x_train.columns, coefficients_lasso):\n",
    "    print(f\"{feature}: {coef}\")"
   ]
  },
  {
   "cell_type": "markdown",
   "metadata": {
    "id": "UaWxiNTiPBOf"
   },
   "source": [
    "__Ответ:__   Качество прогноза получилось высокое, разница между RMSE на тренировочной и тестовой выборках небольшая.\n",
    "Некоторые из коэффициентов стали равны нулю, в том числе и переменные с высокой корреляцией по одному из каждой пары тоже обнулились.\n",
    "Другие же коэффициенты (неравные нулю) уменьшились."
   ]
  },
  {
   "cell_type": "markdown",
   "metadata": {
    "id": "hlIsV3HKPBOf"
   },
   "source": [
    "__б) [0 баллов]__  Изучите код в этом пункте и прочитайте выводы. Подумайте об этом.\n",
    "\n",
    "В случае линейных моделей, обычно, используют два вида регуляризации: Ridge и Lasso. Первая прибавляет к MSE квадраты коэффицентов, а вторая модули. Давайте посмотрим какая между ними разница."
   ]
  },
  {
   "cell_type": "code",
   "execution_count": null,
   "metadata": {
    "id": "oOOwUfeTPBOf"
   },
   "outputs": [],
   "source": [
    "from sklearn.linear_model import Lasso, Ridge  # подгружаем модели"
   ]
  },
  {
   "cell_type": "markdown",
   "metadata": {
    "id": "BInyPTZbPBOf"
   },
   "source": [
    "Обучим много-много моделей с разными силами регуляризации $\\alpha$ и посмотрим что получится."
   ]
  },
  {
   "cell_type": "code",
   "execution_count": null,
   "metadata": {
    "colab": {
     "base_uri": "https://localhost:8080/"
    },
    "id": "p4LU96EAPBOf",
    "outputId": "5039d61f-4b13-4afd-c47a-9021f68be2ab"
   },
   "outputs": [],
   "source": [
    "alphas = np.arange(1, 100, 2)   # задали диапазон для силы регуляризатора\n",
    "\n",
    "# матрицы для весов перед коэффициентами (число регрессоров)*(число признаков)\n",
    "coefs_lasso = np.zeros((alphas.shape[0], x.shape[1]))\n",
    "coefs_ridge = np.zeros((alphas.shape[0], x.shape[1]))\n",
    "\n",
    "features = x.columns\n",
    "\n",
    "i = 0\n",
    "for alph in alphas:\n",
    "    rg = Ridge(alpha=alph)  # для каждого alph обучаем модель\n",
    "    ls = Lasso(alpha=alph)\n",
    "    rg.fit(x,y)\n",
    "    ls.fit(x,y)\n",
    "    coefs_ridge[i] = rg.coef_  # и запоминаем коэффициенты\n",
    "    coefs_lasso[i] = ls.coef_\n",
    "    i += 1"
   ]
  },
  {
   "cell_type": "markdown",
   "metadata": {
    "id": "Q1tXCX9yPBOg"
   },
   "source": [
    "В отличие от L2-регуляризации (Ridge), L1 (Lasso) обнуляет веса при некоторых признаках. Давайте пронаблюдаем, как меняются веса при увеличении коэффициента регуляризации $\\alpha$ (в лекции коэффициент при регуляризаторе мог быть обозначен другой буквой)."
   ]
  },
  {
   "cell_type": "code",
   "execution_count": null,
   "metadata": {
    "colab": {
     "base_uri": "https://localhost:8080/",
     "height": 974
    },
    "id": "aU_K1d0MPBOg",
    "outputId": "fd1326a9-7265-44dc-b0c7-ca8f453044a8"
   },
   "outputs": [],
   "source": [
    "plt.figure(figsize=(8, 5))\n",
    "for coef, feature in zip(coefs_lasso.T, features):\n",
    "    plt.plot(alphas, coef, label=feature, color=np.random.rand(3))\n",
    "plt.legend(loc=\"upper right\", bbox_to_anchor=(1.4, 0.95))\n",
    "plt.xlabel(\"alpha\")\n",
    "plt.ylabel(\"feature weight\")\n",
    "plt.title(\"Lasso\")\n",
    "\n",
    "plt.figure(figsize=(8, 5))\n",
    "for coef, feature in zip(coefs_ridge.T, features):\n",
    "    plt.plot(alphas, coef, label=feature, color=np.random.rand(3))\n",
    "plt.legend(loc=\"upper right\", bbox_to_anchor=(1.4, 0.95))\n",
    "plt.xlabel(\"alpha\")\n",
    "plt.ylabel(\"feature weight\")\n",
    "plt.title(\"Ridge\")"
   ]
  },
  {
   "cell_type": "markdown",
   "metadata": {
    "id": "5PW4mSlYPBOg"
   },
   "source": [
    "Картинки вышли красивыми. Обратите внимание, что регуляризатор Lasso агрессивнее уменьшает веса. Подумайте с чем это связано. Если делать `alpha` очень большим, веса зануляются. В случае Ridge такого не происходит. Веса становятся всё ближе к нулю, но зануления не происходит.  Из-за того, что Lasso зануляет некоторые признаки, его можно использовать для отбора самых важных признаков. Дальше будем работать именно с ним.\n",
    "\n",
    "Итак, мы видим, что при изменении `alpha` модель по-разному подбирает коэффициенты признаков. Нам нужно выбрать наилучшее `alpha`. Для этого, во-первых, нам нужна метрика качества. Будем использовать в качестве метрики сам оптимизируемый функционал метода наименьших квадратов, то есть MSE (Mean Square Error).\n",
    "\n",
    "Во-вторых, нужно понять, на каких данных эту метрику считать. Нельзя выбирать `alpha` по значению MSE на обучающей выборке, потому что тогда мы не сможем оценить, как модель будет делать предсказания на новых для нее данных. Если мы выберем одно разбиение выборки на обучающую и тестовую, то настроимся на конкретные \"новые\" данные, и вновь можем переобучиться.\n",
    "\n",
    "Именно такую настройку вы наблюдали выше, когда запускали код с наивным прогнозом много раз подряд. Поэтому будем делать несколько разбиений выборки, на каждом пробовать разные значения `alpha`, а затем усреднять MSE. Удобнее всего делать такие разбиения кросс-валидацией, то есть разделить выборку на $K$ частей, или блоков, и каждый раз брать одну из них как тестовую, а из оставшихся блоков составлять обучающую выборку.\n",
    "\n",
    "Подбирать параметр `alpha` в `sklearn` совсем просто: для этого есть `GridSearchCV`. Мы уже сталкивались с примером применения этой функции на семинаре. Попробуйте с помощью неё перебрать список из альф и подыскать оптимальное. Параметр cv отвечает за то, на сколько частей делится выборка. Поставьте `cv=5`. Также укажите параметр `scoring = neg_mean_squared_error`. Это задаст функцию потерь, на которую будет ориентироваться `GridSearchCV` при переборе. Назовите переменную, в которой будет находиться перебор __grid_cv_lasso.__"
   ]
  },
  {
   "cell_type": "markdown",
   "metadata": {
    "id": "UfKzXXdjPBOg"
   },
   "source": [
    "__в) [2 балла]__ Подберите для Lasso-регрессии с помощью поиска по решётке оптимальное значение $\\alpha$.  Каким оказалось это значение?\n"
   ]
  },
  {
   "cell_type": "code",
   "execution_count": null,
   "metadata": {
    "colab": {
     "base_uri": "https://localhost:8080/"
    },
    "id": "ZnHliuyuPBOh",
    "outputId": "85c6653e-a1f5-4a57-c0eb-a6ad414104b0"
   },
   "outputs": [],
   "source": [
    "from sklearn.model_selection import GridSearchCV\n",
    "alpha_range = np.logspace(-4, 4, 50)\n",
    "\n",
    "lasso = Lasso()\n",
    "param_grid = {'alpha': alpha_range}\n",
    "grid_search = GridSearchCV(lasso, param_grid, cv=5, scoring='neg_mean_squared_error')\n",
    "\n",
    "grid_search.fit(x_train, y_train)\n",
    "\n",
    "best_alpha = grid_search.best_params_['alpha']\n",
    "print('Оптимальное значение альфа: ', best_alpha)"
   ]
  },
  {
   "cell_type": "markdown",
   "metadata": {
    "id": "mkQLEfbDEqBS"
   },
   "source": [
    "Оптимальное значение альфа:  5.428675439323859, округлим до 5.4"
   ]
  },
  {
   "cell_type": "markdown",
   "metadata": {
    "id": "CyT27wzhPBOh"
   },
   "source": [
    "__г) [2 балла]__ Каким получается качество прогноза для модели с оптимальным значением $\\alpha$?"
   ]
  },
  {
   "cell_type": "code",
   "execution_count": null,
   "metadata": {
    "colab": {
     "base_uri": "https://localhost:8080/"
    },
    "id": "a3sWjscmPBOh",
    "outputId": "569987d1-079b-4924-a519-1a54695da035"
   },
   "outputs": [],
   "source": [
    "best_lasso = grid_search.best_estimator_\n",
    "y_pred = best_lasso.predict(x_test)\n",
    "rmse = np.sqrt(((y_pred - y_test) ** 2).mean())\n",
    "print('RMSE на тестовой выборке: ', rmse)"
   ]
  },
  {
   "cell_type": "markdown",
   "metadata": {
    "id": "yDI8R6EnPBOh"
   },
   "source": [
    "__д) [2 балла]__ Наконец, как принято в анализе данных, давайте проинтерпретируем результат. Проинтерпретируйте последнюю обученую модель. У каких признаков наибольшие положительные коэфициенты? У каких наибольшие отрицательные? Логично ли утверждать, что чем больще/меньше эти признаки, тем выше/ниже спрос на велосипеды? Какие коэффициенты занулились?"
   ]
  },
  {
   "cell_type": "code",
   "execution_count": null,
   "metadata": {
    "colab": {
     "base_uri": "https://localhost:8080/"
    },
    "id": "-JkoDZ3iPBOh",
    "outputId": "0a735b1e-f745-400f-a6a2-e43eb134442e"
   },
   "outputs": [],
   "source": [
    "coef_df = pd.DataFrame({'Переменная': features, 'Коэффициент': coefficients})\n",
    "coef_df = coef_df.sort_values(by='Коэффициент', ascending=False)\n",
    "print(coef_df)\n",
    "\n",
    "print(\"Наибольшие положительные коэффициенты:\")\n",
    "print(coef_df.head())\n",
    "\n",
    "print(\"Наибольшие отрицательные коэффициенты:\")\n",
    "print(coef_df.tail())\n",
    "\n",
    "print(\"Зануленные коэффициенты:\")\n",
    "print(coef_df[coef_df['Коэффициент'] == 0])"
   ]
  },
  {
   "cell_type": "markdown",
   "metadata": {
    "id": "Xub7vyDQPBOh"
   },
   "source": [
    "__Ответ:__  Нет, в данном случае не логично утверждать, что чем больше/меньше эти признаки, тем выше/ниже спрос на велосипеды.\n",
    "\n",
    "__е) [2 балла]__ В прошлой домашке, когда мы придумывали фичи, мы предположили, что спрос на велосипеды зависит от скорости ветра квадратично, по параболе. Подтвердилось ли это предположение?\n",
    "\n",
    "__Ответ:__  Коэффициент windspeed(ms)_squared = 1.129945e+12, что подтверждает предположение о том, что спрос на велосипеды может зависеть от скорости ветра нелинейно, по форме, например, параболы.\n",
    "Такое присутствие квадратичного члена указывает на то, что увеличение скорости ветра может как положительно, так и отрицательно влиять на спрос на велосипеды, в зависимости от уровня скорости ветра."
   ]
  },
  {
   "cell_type": "code",
   "execution_count": null,
   "metadata": {},
   "outputs": [],
   "source": []
  }
 ],
 "metadata": {
  "colab": {
   "provenance": []
  },
  "kernelspec": {
   "display_name": "Python 3 (ipykernel)",
   "language": "python",
   "name": "python3"
  },
  "language_info": {
   "codemirror_mode": {
    "name": "ipython",
    "version": 3
   },
   "file_extension": ".py",
   "mimetype": "text/x-python",
   "name": "python",
   "nbconvert_exporter": "python",
   "pygments_lexer": "ipython3",
   "version": "3.10.9"
  }
 },
 "nbformat": 4,
 "nbformat_minor": 1
}
