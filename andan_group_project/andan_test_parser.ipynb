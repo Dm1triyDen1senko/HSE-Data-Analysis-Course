{
 "cells": [
  {
   "cell_type": "code",
   "execution_count": null,
   "id": "fd2fa7a3",
   "metadata": {},
   "outputs": [],
   "source": [
    "# Нерабочий вариант парсера (у ЦИАНа стоит защита):\n",
    "\n",
    "import requests\n",
    "from bs4 import BeautifulSoup\n",
    "import pandas as pd\n",
    "\n",
    "def get_page_html(url):\n",
    "    response = requests.get(url)\n",
    "    if response.status_code == 200:\n",
    "        return response.text\n",
    "    else:\n",
    "        print(\"Ошибка при загрузке страницы:\", response.status_code)\n",
    "        return None\n",
    "    \n",
    "def parse_apartments(html):\n",
    "    soup = BeautifulSoup(html, 'html.parser')\n",
    "    apartments = []\n",
    "\n",
    "    apartment_elements = soup.find_all(class_='c6e8ba5398--container--3w6o_')\n",
    "\n",
    "    for element in apartment_elements:\n",
    "        price = element.find('span', class_='c6e8ba5398--header--1dZEY').text.strip()\n",
    "        rooms = element.find('div', class_='c6e8ba5398--title--2CW78').text.strip()\n",
    "        apartments.append({'Цена': price, 'Количество комнат': rooms})\n",
    "\n",
    "\n",
    "    return apartments\n",
    "\n",
    "def main():\n",
    "    url = 'https://www.cian.ru/snyat-kvartiru/'\n",
    "    html = get_page_html(url)\n",
    "    if html:\n",
    "        apartments = parse_apartments(html)\n",
    "        df = pd.DataFrame(apartments)\n",
    "        print(df)\n",
    "        \n",
    "if __name__ == '__main__':\n",
    "    main()"
   ]
  }
 ],
 "metadata": {
  "kernelspec": {
   "display_name": "Python 3 (ipykernel)",
   "language": "python",
   "name": "python3"
  },
  "language_info": {
   "codemirror_mode": {
    "name": "ipython",
    "version": 3
   },
   "file_extension": ".py",
   "mimetype": "text/x-python",
   "name": "python",
   "nbconvert_exporter": "python",
   "pygments_lexer": "ipython3",
   "version": "3.10.9"
  }
 },
 "nbformat": 4,
 "nbformat_minor": 5
}
